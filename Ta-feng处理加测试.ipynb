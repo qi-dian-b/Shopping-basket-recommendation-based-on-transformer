{
 "cells": [
  {
   "cell_type": "code",
   "execution_count": 1,
   "metadata": {},
   "outputs": [
    {
     "name": "stdout",
     "output_type": "stream",
     "text": [
      "每个用户平均 购物篮数量： 8.169209702660407\n",
      "购物篮数量的最大值： 86\n",
      "购物篮数量的最小值： 4\n",
      "--------------------------------------------------------\n",
      "所有购物篮里面商品数量均值： 6.332954191709969\n",
      "所有购物篮里面商品数量的最大值： 112\n",
      "所有购物篮里面商品数量的最小值： 1\n"
     ]
    },
    {
     "name": "stderr",
     "output_type": "stream",
     "text": [
      "c:\\python37\\lib\\site-packages\\seaborn\\distributions.py:2557: FutureWarning: `distplot` is a deprecated function and will be removed in a future version. Please adapt your code to use either `displot` (a figure-level function with similar flexibility) or `histplot` (an axes-level function for histograms).\n",
      "  warnings.warn(msg, FutureWarning)\n"
     ]
    },
    {
     "data": {
      "text/plain": [
       "<AxesSubplot:ylabel='Density'>"
      ]
     },
     "execution_count": 1,
     "metadata": {},
     "output_type": "execute_result"
    },
    {
     "data": {
      "image/png": "[encoded data removed]",
      "text/plain": [
       "<Figure size 432x288 with 1 Axes>"
      ]
     },
     "metadata": {
      "needs_background": "light"
     },
     "output_type": "display_data"
    }
   ],
   "source": [
    "import json\n",
    "import numpy as np\n",
    "import pandas as pd\n",
    "from tqdm import tqdm\n",
    "import re\n",
    "import gensim \n",
    "import jieba\n",
    "import random\n",
    "import torch\n",
    "from torch import nn\n",
    "import torch.utils.data as data\n",
    "import torch.nn.functional as F\n",
    "from torch import tensor\n",
    "from sklearn.model_selection import train_test_split\n",
    "from gensim.models import KeyedVectors\n",
    "from gensim.scripts.glove2word2vec import glove2word2vec\n",
    "from sklearn.preprocessing import MinMaxScaler\n",
    "from sklearn import preprocessing\n",
    "from datetime import datetime \n",
    "import time \n",
    "import math\n",
    "from matplotlib import pyplot\n",
    "from sklearn.model_selection import train_test_split\n",
    "import os\n",
    "import tensorflow as tf\n",
    "from scipy import stats, integrate\n",
    "import seaborn as sns\n",
    "import matplotlib.pyplot as plt\n",
    "from matplotlib.font_manager import FontProperties\n",
    "%matplotlib inline\n",
    "plt.rcParams['font.sans-serif']=['SimHei'] # 用来正常显示中文标签\n",
    "plt.rcParams['axes.unicode_minus']=False # 用来正常显示负号\n",
    "# seaborn中文乱码解决方案\n",
    "\n",
    "f = open('Ta-feng.json')\n",
    "feng = json.load(f)\n",
    "baskets_item=feng[\"baskets_item\"]\n",
    "user_id=feng[\"user_id\"]\n",
    "baskets_attr1=feng[\"baskets_attr1\"]\n",
    "baskets_attr2=feng[\"baskets_attr2\"]\n",
    "\n",
    "cuont_tafeng=[]\n",
    "count_goods=[]\n",
    "\n",
    "for i in feng[\"baskets_item\"]:\n",
    "    cuont_tafeng.append(len(i))\n",
    "    for a in i:\n",
    "        count_goods.append(len(a))  #每个购物篮的物品的个数\n",
    "print(\"每个用户平均 购物篮数量：\",np.mean(cuont_tafeng))\n",
    "print(\"购物篮数量的最大值：\",max(cuont_tafeng))\n",
    "print(\"购物篮数量的最小值：\",min(cuont_tafeng))\n",
    "print(\"--------------------------------------------------------\")\n",
    "print(\"所有购物篮里面商品数量均值：\",np.mean(count_goods))\n",
    "print(\"所有购物篮里面商品数量的最大值：\",max(count_goods))\n",
    "print(\"所有购物篮里面商品数量的最小值：\",min(count_goods))\n",
    "\n",
    "sns.distplot(cuont_tafeng)  # 默认"
   ]
  },
  {
   "cell_type": "code",
   "execution_count": 2,
   "metadata": {},
   "outputs": [
    {
     "name": "stdout",
     "output_type": "stream",
     "text": [
      "购物篮里面的物品个数的长度分布\n"
     ]
    },
    {
     "name": "stderr",
     "output_type": "stream",
     "text": [
      "c:\\python37\\lib\\site-packages\\seaborn\\distributions.py:2557: FutureWarning: `distplot` is a deprecated function and will be removed in a future version. Please adapt your code to use either `displot` (a figure-level function with similar flexibility) or `histplot` (an axes-level function for histograms).\n",
      "  warnings.warn(msg, FutureWarning)\n"
     ]
    },
    {
     "data": {
      "text/plain": [
       "<AxesSubplot:ylabel='Density'>"
      ]
     },
     "execution_count": 2,
     "metadata": {},
     "output_type": "execute_result"
    },
    {
     "data": {
      "image/png": "[encoded data removed]",
      "text/plain": [
       "<Figure size 432x288 with 1 Axes>"
      ]
     },
     "metadata": {
      "needs_background": "light"
     },
     "output_type": "display_data"
    }
   ],
   "source": [
    "print(\"购物篮里面的物品个数的长度分布\")\n",
    "sns.distplot(count_goods)  # 默认"
   ]
  },
  {
   "cell_type": "code",
   "execution_count": 5,
   "metadata": {},
   "outputs": [
    {
     "name": "stdout",
     "output_type": "stream",
     "text": [
      "10224\n",
      "[1, 2, 3, 4, 5, 6, 7, 8, 9, 10, 11, 12, 13, 14, 15, 16, 17, 18, 19, 20, 21, 22, 23, 24, 25, 26, 27, 28, 29, 30, 31, 32, 33, 34, 35, 36, 37, 38, 39, 40, 41, 42, 43, 44, 45, 46, 47, 48, 49, 50]\n",
      "10224\n",
      "[[[14240, 14497, 14635], [6197, 12784, 9735, 14528, 6944, 10376, 14634, 19392, 17132, 9801, 21642, 16921, 6807, 20838, 14649, 9083, 9754, 3257, 22066, 403], [9664], [21936, 12168, 15694, 1915, 1918], [4112], [8272, 15947, 16782, 14634, 20355, 20053, 973, 6072, 20838, 14456], [8249], [7438, 15947, 8272, 6051], [12281, 8272]]]\n",
      "10224\n",
      "[[[934, 1324, 1324], [75, 475, 1804, 941, 835, 924, 1324, 328, 436, 1710, 463, 1715, 4, 444, 1324, 435, 1804, 432, 463, 1715], [1766], [554, 937, 943, 1941, 1943], [1370], [1357, 52, 933, 1324, 540, 538, 545, 1358, 444, 924], [712], [538, 52, 1357, 895], [53, 1357]]]\n",
      "10224\n",
      "[[[29, 68, 86], [110, 40, 37, 139, 109, 48, 86, 938, 158, 68, 35, 17, 86, 113, 441, 73, 38, 37, 35, 17], [23], [419, 31, 73, 1043, 1307], [763], [488, 273, 51, 264, 165, 63, 17, 76, 94, 128], [1356], [277, 251, 107, 162], [95, 195]]]\n"
     ]
    }
   ],
   "source": [
    "print(len(user_id))\n",
    "print(user_id[0:50])                                                                                                                                                                                                                                                                                                                                                                                                                                                                                                                                                                                                                                                                                                                                                                                                                                                                                                                                                                                                                                                                                                                                                                                                                                                                                                                                                                                                                                                                                                                                                                                                                                                                                                                                                                                                                                                                                                                                                                                                                                                                                                                                                                                                                                                                                                                                                                                                                                                                                                                                                                                                                                                                                                                                                                                                                                                                                                                                                                                                                                                                                                                                                                                                                                                                                                                                                                                                                                                                                                                                                                                                                                                                                                                                                                                                                                                                                                                                                                                                                                                                                                                                                                                                                                                                                                                                                                                                                                                                                                                                                                                                                                                                                                                                                                                                                                                                                                                                                                                                                                                                                                                                                                                                                                                                                                                                                                                                                                                                                                                                                                                                                                                                                                                                                                                                                                                                                                                                                                                                                                                                                                                                                                                                                                                                                                                                                                                                                                                                                                                                                                                                                                                                                                                                                                                                                                                                                                                                                                                                                                                                                                                                                                                                                                                                                                                                                                                                                                                                                                                                                                                                                                                                                                                                                                                                                                                                                                                                                                                                                                                                                                                                                                                                                                                                                                                                                                                                                                                                                                                                                                                                                                                                                                                                                                                                                                                                                                                                                                                                                                                                                                                                                                                                                                                                                                                                                                                                                                                                                                                                                                                                                                                                                                                                                                                                                                                                                                                                                                                                                                                                                                                                                                                                                                                                                                                                                                                                                                                                                                                                                                                                                                                                                                                                                                                                                                                                                                                                                                                                                                                                                                                                                                                                                                                                                                                                                                                                                                                                                                                                                                                                                                                                                                                                                                                                                                                                                                                                                                                                                                                                                                                                                                                                                                                                                                                                                                                                                                                                                                                                                                                                                                                                                                                                                                                                                                                                                                                                                                                                                                                                                                                                                                                                                                                                                                                                                                                                                                                                                                                                                                                                                                                                                                                                                                                                                                                                                                                                                                                                                                                                                                                                                                                                                                                                                                                                                                                                                                                                                                                                                                                                                                                                                                                                                                                                                                                                                                                                                                                                                                                                                                                                                                                                                                                                                                                                                                                                                                                                                                                                                                                                                                                                                                                                                                                                                                                                                                                                                                                                                                                                                                                                                                                                                                                                                                                                                                                                                                                                                                                                                                                                                                                                                                                                                                                                                                                                                                                                                                                                                                                                                                                                                                                                                                                                                                                                                                                                                                                                                                                                                                                                                                                                                                                                                                                                                                                                                                                                                                                                                                                                                                                                                                                                                                                                                                                                                                                                                                                                                                                                                                                                                                                                                                                                                                                                                                                                                                                                                                                                                                                                                                                                                                                                                                                                                                                                                                                                                                                                                                                                                                                                                                                                                                                                                                                                                                                                                                                                                                                                                                                                                                                                                                                                                                                                                                                                                                                                                                                                                                                                                                                                                                                                                                                                                                                                                                                                                                                                                                                                                                                                                                                                                                                                                                                                                                                                                                                                                                                                                                                                                                                                                                                                                                                                                                                                                                                                                                                                                                                                                                                                                                                                                                                                                                                                                                                                                                                                                                                                                                                                                                                                                                                                                                                                                                                                                                                                                                                                                                                                                                                                                                                                                                                                                                                                                                                                                                                                                                                                                                                                                                                                                                                                                                                                                                                                                                                                                                                                                                                                                                                                                                                                                                                                                                                                                                                                                                                                                                                                                                                                                                                                                                                                                                                                                                                                                                                                                                                                                                                                                                                                                                                                                                                                                                                                                                                                                                                                                                                                                                                                                                                                                                                                                                                                                                                                                                                                                                                                                                                                                                                                                                                                                                                                                                                                                                                                                                                                                                                                                                                                                                                                                                                                                                                                                                                                                                                                                                                                                                                                                                                                                                                                                                                                                                                                                                                                                                                                                                                                                                                                                                                                                                                                                                                                                                                                                                                                                                                                                                                                                                                                                                                                                                                                                                                                                                                                                                                                                                                                                                                                                                                                                                                                                                                                                                                                                                                                                                                                                                                                                                                                                                                                                                                                                                                                                                                                                                                                                                                                                                                                                                                                                                                                                                                                                                                                                                                                                                                                                                                                                                                                                                                                                                                                                                                                                                                                                                                                                                                                                                                                                                                                                                                                                                                                                                                                                                                                                                                                                                                                                                                                                                                                                                                                                                                                                                                                                                                                                                                                                                                                                                                                                                                                                                                                                                                                                                                                                                                                                                                                                                                                                                                                                                                                                                                                                                                                                                                                                                                                                                                                                                                                                                                                                                                                                                                                                                                                                                                                                                                                                                                                                                                                                                                                                                                                                                                                                                                                                                                                                                                                                                                                                                                                                                                                                                                                                                                                                                                                                                                                                                                                                                                                                                                                                                                                                                                                                                                                                                                                                                                                                                                                                                                                                                                                                                                                                                                                                                                                                                                                                                                                                                                                                                                                                                                                                                                                                                                                                                                                                                                                                                                                                                                                                                                                                                                                                                                                                                                                                                                                                                                                                                                                                                                                                                                                                                                                                                                                                                                                                                                                                                                                                                                                                                                                                                                                                                                                                                                                                                                                                                                                                                                                                                                                                                                                                                                                                                                                                                                                                                                                                                                                                                                                                                                                                                                                                                                                                                                                                                                                                                                                                                                                                                                                                                                                                                                                                                                                                                                                                                                                                                                                                                                                                                                                                                                                                                                                                                                                                                                                                                                                                                                                                                                                                                                                                                                                                                                                                                                                                                                                                                                                                                                                                                                                                                                                                                                                                                                                                                                                                                                                                                                                                                                                                                                                                                                                                                                                                                                                                                                                                                                                                                                                                                                                                                                                                                                                                                                                                                                                                                                                                                                                                                                                                                                                                                                                                                                                                                                                                                                                                                                                                                                                                                                                                                                                                                                                                                                                                                                                                                                                                                                                                                                                                                                                                                                                                                                                                                                                                                                                                                                                                                                                                                                                                                                                                                                                                                                                                                                                                                                                                                                                                                                                                                                                                                                                                                                                                                                                                                                                                                                                                                                                                                                                                                                                                                                                                                                                                                                                                                                                                                                                                                                                                                                                                                                                                                                                                                                                                                                                                                                                                                                                                                                                                                                                                                                                                                                                                                                                                                                                                                                                                                                                                                                                                                                                                                                                                                                                                                                                                                                                                                                                                                                                                                                                                                                                                                                                                                                                                                                                                                                                                                                                                                                                                                                                                                                                                                                                                                                                                                                                                                                                                                                                                                                                                                                                                                                                                                                                                                                                                                                                                                                                                                                                                                                                                                                                                                                                                                                                                                                                                                                                                                                                                                                                                                                                                                                                                                                                                                                                                                                                                                                                                                                                                                                                                                                                                                                                                                                                                                                                                                                                                                                                                                                                                                                                                                                                                                                                                                                                                                                                                                                                                                                                                                                                                                                                                                                                                                                                                                                                                                                                                                                                                                                                                                                                                                                                                                                                                                                                                                                                                                                                                                                                                                                                                                                                                                                                                                                                                                                                                                                                                                                                                                                                                                                                                                                                                                                                                                                                                                                                                                                                                                                                                                                                                                                                                                                                                                                                                                                                                                                                                                                                                                                                                                                                                                                                                                                                                                                                                                                                                                                                                                                                                                                                                                                                                                                                                                                                                                                                                                                                                                                                                                                                                                                                                                                                                                                                                                                                                                                                                                                                                                                                                                                                                                                                                                                                                                                                                                                                                                                                                                                                                                                                                                                                                                                                                                                                                                                                                                                                                                                                                                                                                                                                                                                                                                                                                                                                                                                                                                                                                                                                                                                                                                                                                                                                                                                                                                                                                                                                                                                                                                                                                                                                                                                                                                                                                                                                                                                                                                                                                                                                                                                                                                                                                                                                                                                                                                                                                                                                                                                                                                                                                                                                                                                                                                                                                                                                                                                                                                                                                                                                                                                                                                                                                                                                                                                                                                                                                                                                                                                                                                                                                                                                                                                                                                                                                                                                                                                                                                                                                                                                                                                                                                                                                                                                                                                                                                                                                                                                                                                                                                                                                                                                                                                                                                                                                                                                                                                                                                                                                                                                                                                                                                                                                                                                                                                                                                                                                                                                                                                                                                                                                                                                                                                                                                                                                                                                                                                                                                                                                                                                                                                                                                                                                                                                                                                                                                                                                                                                                                                                                                                                                                                                                                                                                                                                                                                                                                                                                                                                                                                                                                                                                                                                                                                                                                                                                                                                                                                                                                                                                                                                                                                                                                                                                                                                                                                                                                                                                                                                                                                                                                                                                                                                                                                                                                                                                                                                                                                                                                                                                                                                                                                                                                                                                                                                                                                                                                                                                                                                                                                                                                                                                                                                                                                                                                                                                                                                                                                                                                                                                                                                                                                                                                                                                                                                                                                                                                                                                                                                                                                                                                                                                                                                                                                                                                                                                                                                                                                                                                                                                                                                                                                                                                                                                                                                                                                                                                                                                                                                                                                                                                                                                                                                                                                                                                                                                                                                                                                                                                                                                                                                                                                                                                                                                                                                                                                                                                                                                                                                                                                                                                                                                                                                                                                                                                                                                                                                                                                                                                                                                                                                                                                                                                                                                                                                                                                                                                                                                                                                                                                                                                                                                                                                                                                                                                                                                                                                                                                                                                                                                                                                                                                                                                                                                                                                                                                                                                                                                                                                                                                                                                                                                                                                                                                                                                                                                                                                                                                                                                                                                                                                                                                                                                                                                                                                                                                                                                                                                                                                                                                                                                                                                                                                                                                                                                                                                                                                                                                                                                                                                                                                                                                                                                                                                                                                                                                                                                                                                                                                                                                                                                                                                                                                                                                                                                                                                                                                                                                                                                                                                                                                                                                                                                                                                                                                                                                                                                                                                                                                                                                                                                                                                                                                                                                                                                                                                                                                                                                                                                                                                                                                                                                                                                                                                                                                                                                                                                                                                                                                                                                                                                                                                                                                                                                                                                                                                                                                                                                                                                                                                                                                                                                                                                                                                                                                                                                                                                                                                                                                                                                                                                                                                                                                                                                                                                                                                                                                                                                                                                                                                                                                                                                                                                                                                                                                                                                                                                                                                                                                                                                                                                                                                                                                                                                                                                                                                                                                                                                                                                                                                                                                                                                                                                                                                                                                                                                                                                                                                                                                                                                                                                                                                                                                                                                                                                                                                                                                                                                                                                                                                                                                                                                                                                                                                                                                                                                                                                                                                                                                                                                                                                                                                                                                                                                                                                                                                                                                                                                                                                                                                                                                                                                                                                                                                                                                                                                                                                                                                                                                                                                                                                                                                                                                                                                                                                                                                                                                                                                                                                                                                                                                                                                                                                                                                                                                                                                                                                                                                                                                                                                                                                                                                                                                                                                                                                                                                                                                                                                                                                                                                                                                                                                                                                                                                                                                                                                                                                                                                                                                                                                                                                                                                                                                                                                                                                                                                                                                                                                                                                                                                                                                                                                                                                                                                                                                                                                                                                                                                                                                                                                                                                                                                                                                                                                                                                                                                                                                                                                                                                                                                                                                                                                                                                                                                                                                                                                                                                                                                                                                                                                                                                                                                                                                                                                                                                                                                                                                                                                                                                                                                                                                                                                                                                                                                                                                                                                                                                                                                                                                                                                                                                                                                                                                                                                                                                                                                                                                                                                                                                                                                                                                                                                                                                                                                                                                                                                                                                                                                                                                                                                                                                                                                                                                                                                                                                                                                                                                                                                                                                                                                                                                                                                                                                                                                                                                                                                                                                                                                                                                                                                                                                                                                                                                                                                                                                                                                                                                                                                                                                                                                                                                                                                                                                                                                                                                                                                                                                                                                                                                                                                                                                                                                                                                                                                                                                                                                                                                                                                                                                                                                                                                                                                                                                                                                                                                                                                                                                                                                                                                                                                                                                                                                                                                                                                                                                                                                                                                                                                                                                                                                                                                                                                                                                                                                                                                                                                                                                                                                                                                                                                                                                                                                                                                                                                                                                                                                                                                                                                                                                                                                                                                                                                                                                                                                                                                                                                                                                                                                                                                                                                                                                                                                                                                                                                                                                                                                                                                                                                                                                                                                                                                                                                                                                                                                                                                                                                                                                                                                                                                                                                                                                                                                                                                                                                                                                                                                                                                                                                                                                                                                                                                                                                                                                                                                                                                                                                                                                                                                                                                                                                                                                                                                                                                                                                                                                                                                                                                                                                                                                                                                                                                                                                                                                                                                                                                                                                                                                                                                                                                                                                                                                                                                                                                                                                                                                                                                                                                                                                                                                                                                                                                                                                                                                                                                                                                                                                                                                                                                                                                                                                                                                                                                                                                                                                                                                                                                                                                                                                                                                                                                                                                                                                                                                                                                                                                                                                                                                                                                                                                                                                                                                                                                                                                                                                                                                                                                                                                                                                                                                                                                                                                                                                                                                                                                                                                                                                                                                                                                                                                                                                                                                                                                                                                                                                                                                                                                                                                                                                                                                                                                                                                                                                                                                                                                                                                                                                                                                                                                                                                                                                                                                                                                                                                                                                                                                                                                                                                                                                                                                                                                                                                                                                                                                                                                                                                                                                                                                                                                                                                                                                                                                                                                                                                                                                                                                                                                                                                                                                                                                                                                                                                                                                                                                                                                                                                                                                                                                                                                                                                                                                                                                                                                                                                                                                                                                                                                                                                                                                                                                                                                                                                                                                                                                                                                                                                                                                                                                                                                                                                                                                                                                                                                                                                                                                                                                                                                                                                                                                                                                                                                                                                                                                                                                                                                                                                                                                                                                                                                                                                                                                                                                                                                                                                                                                                                                                                                                                                                                                                                                                                                                                                                                                                                                                                                                                                                                                                                                                                                                                                                                                                                                                                                                                                                                                                                                                                                                                                                                                                                                                                                                                                                                                                                                                                                                                                                                                                                                                                                                                                                                                                                                                                                                                                                                                                                                                                                                                                                                                                                                                                                                                                                                                                                                                                                                                                                                                                                                                                                                                                                                                                                                                                                                                                                                                                                                                                                                                                                                                                                                                                                                                                                                                                                                                                                                                                                                                                                                                                                                                                                                                                                                                                                                                                                                                                                                                                                                                                                                                                                                                                                                                                                                                                                                                                                                                                                                                                                                                                                                                                                                                                                                                                                                                                                                                                                                                                                                                                                                                                                                                                                                                                                                                                                                                                                                                                                                                                                                                                                                                                                                                                                                                                                                                                                                                                                                                                                                                                                                                                                                                                                                                                                                                                                                                                                                                                                                                                                                                                                                                                                                                                                                                                                                                                                                                                                                                                                                                                                                                                                                                                                                                                                                                                                                                                                                                                                                                                                                                                                                                                                                                                                                                                                                                                                                                                                                                                                                                                                                                                                                                                                                                                                                                                                                                                                                                                                                                                                                                                                                                                                                                                      \n",
    "print(len(baskets_item))\n",
    "print(baskets_item[0:1])\n",
    "print(len(baskets_attr1))\n",
    "print(baskets_attr1[0:1])\n",
    "print(len(baskets_attr2))\n",
    "print(baskets_attr2[0:1])"
   ]
  },
  {
   "cell_type": "markdown",
   "metadata": {},
   "source": [
    "# 把所有的商品训练一个word2vec 然后进行商品的表示 \n",
    "# 由于一个购物篮序列中的商品可能个数比较少 我们可以把用户所有的商品 组合成一个句子"
   ]
  },
  {
   "cell_type": "code",
   "execution_count": 8,
   "metadata": {},
   "outputs": [],
   "source": [
    "with open('baskets_item_wd2.txt','w') as f:  \n",
    "    for user_item in baskets_item:\n",
    "         for  item in user_item:\n",
    "            for goods in item:\n",
    "                f.write(str(goods)+\" \")  # 加入空格 \n",
    "         f.write(\"\\n\")      # 加入换行符 \n",
    "    f.close()\n",
    "\n"
   ]
  },
  {
   "cell_type": "code",
   "execution_count": 9,
   "metadata": {},
   "outputs": [
    {
     "name": "stdout",
     "output_type": "stream",
     "text": [
      "285.5575117370892\n",
      "10224\n"
     ]
    }
   ],
   "source": [
    "# 查看一个用户所有的商品购买记录的平均长度 \n",
    "long_list=[]\n",
    "with open('baskets_item_wd2.txt','r') as f:\n",
    "      for i in f:\n",
    "#          print(i)\n",
    "         long_list.append(len(i)) \n",
    "print(np.mean(long_list))\n",
    "print(len(long_list))"
   ]
  },
  {
   "cell_type": "markdown",
   "metadata": {},
   "source": [
    "wrod2vec 词向量的训练 "
   ]
  },
  {
   "cell_type": "code",
   "execution_count": 5,
   "metadata": {},
   "outputs": [],
   "source": [
    "sentences = list(gensim.models.word2vec.LineSentence('baskets_item_wd2.txt'))\n",
    "w2v_model = gensim.models.Word2Vec(sentences, min_count=1,size=200,window=10)\n",
    "w2v_model.save(\"baskets_item_wd2.bin\")"
   ]
  },
  {
   "cell_type": "code",
   "execution_count": 2,
   "metadata": {},
   "outputs": [
    {
     "name": "stdout",
     "output_type": "stream",
     "text": [
      "Word2Vec(vocab=22188, size=200, alpha=0.025)\n"
     ]
    }
   ],
   "source": [
    "# 词向量的加载 \n",
    "baskets_item_wd2=gensim.models.Word2Vec.load(\"baskets_item_wd2.bin\")\n",
    "print(baskets_item_wd2)"
   ]
  },
  {
   "cell_type": "markdown",
   "metadata": {},
   "source": [
    "# 把所有的属性 训练一个word2vec 然后进行商品的表示 \n",
    "# 由于一个购物篮序列中的属性可能个数比较少 我们可以把用户所有的商品属性组合成一个句子"
   ]
  },
  {
   "cell_type": "markdown",
   "metadata": {},
   "source": [
    "# attr1 训练"
   ]
  },
  {
   "cell_type": "code",
   "execution_count": 18,
   "metadata": {},
   "outputs": [
    {
     "name": "stdout",
     "output_type": "stream",
     "text": [
      "224.1254890453834\n"
     ]
    }
   ],
   "source": [
    "with open('baskets_attr1_wd2.txt','w') as f:  \n",
    "    for attr1_item in baskets_attr1:\n",
    "         for  item in attr1_item:\n",
    "            for attr1 in item:\n",
    "                f.write(str(attr1)+\" \")  # 加入空格 \n",
    "         f.write(\"\\n\")      # 加入换行符 \n",
    "    f.close()\n",
    "\n",
    "# 查看一个用户所有的商品购买记录的平均长度 \n",
    "long_list=[]\n",
    "with open('baskets_attr1_wd2.txt','r') as f:\n",
    "      for i in f:\n",
    "#          print(i)\n",
    "         long_list.append(len(i)) \n",
    "print(np.mean(long_list))"
   ]
  },
  {
   "cell_type": "code",
   "execution_count": 12,
   "metadata": {},
   "outputs": [
    {
     "name": "stdout",
     "output_type": "stream",
     "text": [
      "Word2Vec(vocab=1970, size=200, alpha=0.025)\n"
     ]
    }
   ],
   "source": [
    "sentences = list(gensim.models.word2vec.LineSentence('baskets_attr1_wd2.txt'))\n",
    "w2v_model = gensim.models.Word2Vec(sentences, min_count=1,size=200,window=10)\n",
    "w2v_model.save(\"baskets_attr1_wd2.bin\")\n",
    "\n"
   ]
  },
  {
   "cell_type": "code",
   "execution_count": 13,
   "metadata": {
    "collapsed": true,
    "jupyter": {
     "outputs_hidden": true,
     "source_hidden": true
    }
   },
   "outputs": [
    {
     "name": "stdout",
     "output_type": "stream",
     "text": [
      "Word2Vec(vocab=1970, size=200, alpha=0.025)\n"
     ]
    }
   ],
   "source": [
    "# 词向量的加载 \n",
    "baskets_attr1_wd2=gensim.models.Word2Vec.load(\"baskets_attr1_wd2.bin\")\n",
    "print(baskets_attr1_wd2)"
   ]
  },
  {
   "cell_type": "markdown",
   "metadata": {},
   "source": [
    "# attr2 训练"
   ]
  },
  {
   "cell_type": "code",
   "execution_count": 20,
   "metadata": {
    "jupyter": {
     "source_hidden": true
    }
   },
   "outputs": [
    {
     "name": "stdout",
     "output_type": "stream",
     "text": [
      "173.54166666666666\n"
     ]
    }
   ],
   "source": [
    "with open('baskets_attr2_wd2.txt','w') as f:  \n",
    "    for attr2_item in baskets_attr2:\n",
    "         for  item in attr2_item:\n",
    "            for attr2 in item:\n",
    "                f.write(str(attr2)+\" \")  # 加入空格 \n",
    "         f.write(\"\\n\")      # 加入换行符 \n",
    "    f.close()\n",
    "\n",
    "# 查看一个用户所有的商品购买记录的平均长度 \n",
    "long_list=[]\n",
    "with open('baskets_attr2_wd2.txt','r') as f:\n",
    "      for i in f:\n",
    "         long_list.append(len(i)) \n",
    "print(np.mean(long_list))"
   ]
  },
  {
   "cell_type": "code",
   "execution_count": 21,
   "metadata": {
    "jupyter": {
     "source_hidden": true
    }
   },
   "outputs": [
    {
     "name": "stdout",
     "output_type": "stream",
     "text": [
      "Word2Vec(vocab=1973, size=200, alpha=0.025)\n"
     ]
    }
   ],
   "source": [
    "sentences = list(gensim.models.word2vec.LineSentence('baskets_attr2_wd2.txt'))\n",
    "w2v_model = gensim.models.Word2Vec(sentences, min_count=1,size=200,window=10)\n",
    "w2v_model.save(\"baskets_attr2_wd2.bin\")"
   ]
  },
  {
   "cell_type": "code",
   "execution_count": 14,
   "metadata": {
    "jupyter": {
     "source_hidden": true
    }
   },
   "outputs": [
    {
     "name": "stdout",
     "output_type": "stream",
     "text": [
      "Word2Vec(vocab=1973, size=200, alpha=0.025)\n"
     ]
    }
   ],
   "source": [
    "# 词向量的加载 \n",
    "baskets_attr2_wd2=gensim.models.Word2Vec.load(\"baskets_attr2_wd2.bin\")\n",
    "print(baskets_attr2_wd2)"
   ]
  },
  {
   "cell_type": "markdown",
   "metadata": {},
   "source": [
    "# 写一个函数 进行就是说把之前的句子处理成一个矩阵 一个大矩阵表示的是整个用户的所有购买序列"
   ]
  },
  {
   "cell_type": "markdown",
   "metadata": {},
   "source": [
    "# 用户的购物篮是10个预测第11个，然后每个购物篮的里面的商品数量是定义为10个"
   ]
  },
  {
   "cell_type": "code",
   "execution_count": 3,
   "metadata": {},
   "outputs": [],
   "source": [
    "# 所有的用户 一个用户设置十个购物篮 \n",
    "def hang_juzhen_vectors(data):\n",
    "        user_basket_sum_x=[]\n",
    "        user_basket_sum_y=[]\n",
    "        for user_baskets in data:# 一个用户所有的baseker序列 \n",
    "                user_basket=[] # 这个列表用来装一个用户的所有购物篮\n",
    "                for id,basket in enumerate(user_baskets): # 遍历这个用户每一个购物篮 \n",
    "                        one_basket=np.zeros((10,200))\n",
    "                        for index,goods in enumerate(basket):\n",
    "                            if int(index)<10:\n",
    "                                try:\n",
    "                                    vec = baskets_item_wd2[str(goods)] \n",
    "                                except KeyError:\n",
    "                                     vec=np.zeros((1,200))\n",
    "                                one_basket[int(index)]=vec \n",
    "                            else:\n",
    "                                 pass  \n",
    "                        user_basket.append(one_basket)\n",
    "                if len(user_basket)>10: # 如果这个用户的购物篮的个数大于10 预测数据取 前十个 目标数据取第11个\n",
    "                    user_basket_x=user_basket[0:10]                                                  \n",
    "                    user_basket_sum_y.append(user_basket[10])\n",
    "                else: # 假如说这个用户的购物篮的数量<=10,训练数据=除去最后一个购物篮前边的购物篮  预测数据就是最后一个购物篮  # 每个购物篮的数量都是10个 如果不够的就给补齐！！10个 \n",
    "                    user_basket_x=user_basket[0:int(len(user_basket)-1)]\n",
    "                    for i in range(11-int(len(user_basket))):\n",
    "                         user_basket_x.append(np.zeros((10,200)))\n",
    "                            \n",
    "                    user_basket_sum_y.append(user_basket[int(len(user_basket)-1)])\n",
    "                    \n",
    "                user_basket_sum_x.append(np.array(user_basket_x))\n",
    "        return np.array(user_basket_sum_x),np.array(user_basket_sum_y)"
   ]
  },
  {
   "cell_type": "code",
   "execution_count": 4,
   "metadata": {},
   "outputs": [
    {
     "name": "stderr",
     "output_type": "stream",
     "text": [
      "c:\\python37\\lib\\site-packages\\ipykernel_launcher.py:12: DeprecationWarning: Call to deprecated `__getitem__` (Method will be removed in 4.0.0, use self.wv.__getitem__() instead).\n",
      "  if sys.path[0] == '':\n"
     ]
    }
   ],
   "source": [
    "train_sum_x,train_sum_y=hang_juzhen_vectors(baskets_item)"
   ]
  },
  {
   "cell_type": "markdown",
   "metadata": {},
   "source": [
    "# 先把xy分出来"
   ]
  },
  {
   "cell_type": "markdown",
   "metadata": {},
   "source": [
    "# 输入数据的维度是 句子长度 batch大小  每个单词的维度 ， padding矩阵 是1的部分是mask掉的 ，不是0的部分是要训练可见的"
   ]
  },
  {
   "cell_type": "code",
   "execution_count": 5,
   "metadata": {},
   "outputs": [
    {
     "name": "stdout",
     "output_type": "stream",
     "text": [
      "2.3281311988830566\n",
      "2.3281311988830566\n"
     ]
    }
   ],
   "source": [
    "print(train_sum_x.max())\n",
    "print(train_sum_y.max())"
   ]
  },
  {
   "cell_type": "code",
   "execution_count": 6,
   "metadata": {},
   "outputs": [],
   "source": [
    "max1 = max(train_sum_x.max(),train_sum_y.max())\n",
    "train_sum_x = train_sum_x / max1\n",
    "train_sum_y= train_sum_y/ max1"
   ]
  },
  {
   "cell_type": "code",
   "execution_count": 9,
   "metadata": {},
   "outputs": [
    {
     "name": "stdout",
     "output_type": "stream",
     "text": [
      "(10224, 10, 10, 200)\n",
      "(10224, 10, 200)\n"
     ]
    }
   ],
   "source": [
    "print(train_sum_x.shape)#经过卷积层之后会得到的是(100, 10, 10) 就是把最后的 1维度给删除掉 让10个200维度变成\n",
    "print(train_sum_y.shape)\n"
   ]
  },
  {
   "cell_type": "code",
   "execution_count": 7,
   "metadata": {},
   "outputs": [
    {
     "name": "stdout",
     "output_type": "stream",
     "text": [
      "(9201, 10, 10, 200)\n",
      "(9201, 10, 200)\n",
      "(1023, 10, 10, 200)\n",
      "(1023, 10, 200)\n"
     ]
    }
   ],
   "source": [
    "train_x_data,test_x_data,train_y_data,test_y_data = train_test_split(np.array(train_sum_x),np.array(train_sum_y),test_size=0.1)\n",
    "print(train_x_data.shape)\n",
    "print(train_y_data.shape)\n",
    "print(test_x_data.shape)\n",
    "print(test_y_data.shape)"
   ]
  },
  {
   "cell_type": "code",
   "execution_count": 49,
   "metadata": {},
   "outputs": [
    {
     "name": "stdout",
     "output_type": "stream",
     "text": [
      "torch.Size([500, 10, 200])\n"
     ]
    }
   ],
   "source": [
    "ceshi=np.zeros(1000000)\n",
    "ceshi=torch.tensor(ceshi.reshape((500,10,200)))\n",
    "h=PositionalEncoding(int(200))\n",
    "out=h(ceshi)\n",
    "print(out.shape)"
   ]
  },
  {
   "cell_type": "markdown",
   "metadata": {},
   "source": [
    "# 位置编码"
   ]
  },
  {
   "cell_type": "code",
   "execution_count": 8,
   "metadata": {},
   "outputs": [],
   "source": [
    "class PositionalEncoding(nn.Module):\n",
    "    def __init__(self, d_model, max_len=1100):# 位置编码的输入是一个三维的的 这里的max_len=1100 要大于=输入矩阵的第一个维度\n",
    "        super(PositionalEncoding, self).__init__()\n",
    "        pe = torch.zeros(max_len, d_model)\n",
    "        position = torch.arange(0, max_len, dtype=torch.float).unsqueeze(1)\n",
    "        div_term = torch.exp(torch.arange(0, d_model, 2).float() * (-math.log(10000.0) / d_model))\n",
    "        pe[:, 0::2] = torch.sin(position * div_term)\n",
    "        pe[:, 1::2] = torch.cos(position * div_term)\n",
    "        pe = pe.unsqueeze(0).transpose(0, 1)\n",
    "        self.register_buffer('pe', pe)\n",
    "    def forward(self, x):\n",
    "        return x + self.pe[:x.size(0), :]"
   ]
  },
  {
   "cell_type": "markdown",
   "metadata": {},
   "source": [
    "# 定义一个卷积层，一个购物蓝定义为一个向量 现在是一个购物篮有是个商品 十个 200维度的向量，把这个10个 200维度的向量变成一个 200维度的向量"
   ]
  },
  {
   "cell_type": "code",
   "execution_count": 11,
   "metadata": {
    "collapsed": true,
    "jupyter": {
     "outputs_hidden": true,
     "source_hidden": true
    }
   },
   "outputs": [
    {
     "name": "stdout",
     "output_type": "stream",
     "text": [
      "(10, 10, 10, 200)\n",
      "[[0. 0. 0. ... 0. 0. 0.]\n",
      " [0. 0. 0. ... 0. 0. 0.]\n",
      " [0. 0. 0. ... 0. 0. 0.]\n",
      " ...\n",
      " [0. 0. 0. ... 0. 0. 0.]\n",
      " [0. 0. 0. ... 0. 0. 0.]\n",
      " [0. 0. 0. ... 0. 0. 0.]]\n"
     ]
    }
   ],
   "source": [
    "print(train_x.shape)\n",
    "print(train_x[9][9])"
   ]
  },
  {
   "cell_type": "code",
   "execution_count": 93,
   "metadata": {},
   "outputs": [
    {
     "name": "stdout",
     "output_type": "stream",
     "text": [
      "torch.Size([10224, 10, 10, 1])\n",
      "torch.Size([10224, 10, 10])\n"
     ]
    }
   ],
   "source": [
    "import torch\n",
    "conv = torch.nn.Conv2d(10,10,(1,200))\n",
    "res = conv(torch.tensor(train_x))\n",
    "print(res.shape)\n",
    "res = torch.squeeze(res, dim=3)  \n",
    "print(res.shape)   "
   ]
  },
  {
   "cell_type": "code",
   "execution_count": 23,
   "metadata": {},
   "outputs": [
    {
     "name": "stdout",
     "output_type": "stream",
     "text": [
      "torch.Size([3, 10, 1, 200])\n",
      "torch.Size([3, 10, 200])\n"
     ]
    }
   ],
   "source": [
    "# 定义网络结构\n",
    "class CNNnet(torch.nn.Module):\n",
    "    def __init__(self):\n",
    "        super(CNNnet,self).__init__()\n",
    "        #定义一个卷积层，一个购物蓝定义为一个向量 现在是一个购物篮有是个商品 十个 200维度的向量，把这个10个 200维度的向量变成一个 200维度的向量\n",
    "        self.conv1 = torch.nn.Sequential(\n",
    "            torch.nn.Conv2d(in_channels=10,\n",
    "                            out_channels=10,\n",
    "                            kernel_size=(10,1)),\n",
    "#             torch.nn.BatchNorm2d(10),\n",
    "#             torch.nn.ReLU()\n",
    "        )\n",
    "    def forward(self, x):\n",
    "        x = self.conv1(x)\n",
    "        return x\n",
    "model = CNNnet()\n",
    "a=model(torch.randn(3,10,10,200))\n",
    "print(a.shape)\n",
    "src = torch.squeeze(a,dim=2)\n",
    "print(src.shape)\n"
   ]
  },
  {
   "cell_type": "markdown",
   "metadata": {},
   "source": [
    "# 模型结构"
   ]
  },
  {
   "cell_type": "code",
   "execution_count": 9,
   "metadata": {},
   "outputs": [],
   "source": [
    "#### model stracture ####\n",
    "class TransAm(nn.Module):\n",
    "    def __init__(self, feature_size=200, num_layers=1, dropout=0): # 这个feature_size=200的维度要与输入transformer中的每个单元的维度是一样的\n",
    "        super(TransAm, self).__init__()\n",
    "        self.model_type = 'Transformer'\n",
    "        self.src_mask = None\n",
    "        #定义一个卷积层，一个购物蓝定义为一个向量 现在是一个购物篮有是个商品 十个 200维度的向量，把这个10个 200维度的向量变成一个 200维度的向量\n",
    "        self.conv1 = torch.nn.Sequential(\n",
    "                     torch.nn.Conv2d(in_channels=10,\n",
    "                                    out_channels=10,\n",
    "                                    kernel_size=(10,1))) # 这个卷积是竖着卷积的所以会把o向量也卷积上 \n",
    "        \n",
    "        self.pos_encoder = PositionalEncoding(feature_size)\n",
    "        \n",
    "        self.encoder_layer = nn.TransformerEncoderLayer(d_model=feature_size, nhead=8, dropout=dropout)\n",
    "        \n",
    "        self.transformer_encoder = nn.TransformerEncoder(self.encoder_layer, num_layers=num_layers)\n",
    "        \n",
    "        self.decoder = nn.Linear(feature_size,20) \n",
    "        \n",
    "        self.init_weights() # nn.Linear 权重参数 初始化\n",
    "        \n",
    "        self.src_key_padding_mask = None #解码器的mask是空 可以直接删除\n",
    "\n",
    "    def init_weights(self):\n",
    "        initrange = 0.1\n",
    "        self.decoder.bias.data.zero_()\n",
    "        self.decoder.weight.data.uniform_(-initrange, initrange)\n",
    "\n",
    "    def forward(self, src):\n",
    "        \n",
    "        #----------------------------------------------------------------\n",
    "        src=self.conv1(src)\n",
    "        src = torch.squeeze(src,dim=2) \n",
    "        #输入进来的是4维度的数据，先卷积然后再去除一个1维度的数据，变成一个三维度的数据。 transfoemer 要求是输入三维度的数据 ，句子长度 batch大小  每个单词的维度\n",
    "        #其中 原始数据要求是两个维度的，所以加上batch是三个维度也正好是三维度的数据。\n",
    "        #----------------------------------------------------------------\n",
    "        \n",
    "        # 制作mask矩阵 ---------------------------------------------------\n",
    "        src_key_padding_mask=np.zeros(int(src.shape[0])*int(src.shape[1]))\n",
    "        src_key_padding_mask=torch.tensor(src_key_padding_mask.reshape([int(src.shape[1]),int(src.shape[0])])).to(device)\n",
    "        #----------------------------------------------------------------\n",
    "        \n",
    "        src_key_padding_mask = src_key_padding_mask.bool()\n",
    "        \n",
    "        src = self.pos_encoder(src) # 位置编码 \n",
    "        \n",
    "        output = self.transformer_encoder(src,self.src_mask,src_key_padding_mask) # encode部分\n",
    "\n",
    "        output = self.decoder(output) # decoder\n",
    "        output=output.reshape((int(src.shape[0]),200)) #一次进来几个用户的 预测事件 就要输出几个200维度向量为每个用户预测一个向量 \n",
    "        return output\n",
    "    \n",
    "\n",
    "torch.set_default_tensor_type(torch.DoubleTensor) # 直接设置创建的tensor类型默认为Double，如果不设置的话自动默认为float类型。ko\n",
    "\n",
    "device = torch.device(\"cuda\" if torch.cuda.is_available() else \"cpu\")\n",
    "\n",
    "model = TransAm().to(device)\n",
    "criterion = nn.MSELoss().to(device)\n",
    "lr = 0.01\n",
    "\n",
    "optimizer = torch.optim.AdamW(model.parameters(), lr=lr)\n",
    "scheduler = torch.optim.lr_scheduler.StepLR(optimizer,[20,50,80], gamma=0.5)\n",
    "# https://blog.csdn.net/zisuina_2/article/details/103258573\n",
    "best_val_loss = float(\"inf\")\n",
    "epochs = 100 # The number of epochs\n",
    "best_model = None"
   ]
  },
  {
   "cell_type": "code",
   "execution_count": 10,
   "metadata": {},
   "outputs": [],
   "source": [
    "def train(data,targets):\n",
    "    model.train()  #需要在训练时添加model.train()，在测试时添加model.eval()。其中model.train()是保证BN层用每一批数据的均值和方差\n",
    "    optimizer.zero_grad()\n",
    "    output = model(data) # 传入模型得是 原始得数据 和 key_padding_mask\n",
    "    #这里output 是为每个用户输出一个推荐的商品向量  targets是10个用户预测下一个购物篮中 10个商品向量 \n",
    "    loss0=0\n",
    "    for i in range(data.shape[0]): #让每个商品向量与这个用户真实的第11个购物篮的中的10个向量做 mse\n",
    "        loss1= criterion(output[i],targets[i])\n",
    "        loss0=loss0+loss1\n",
    "    loss=loss0/float(data.shape[0])\n",
    "#     print(loss.item())\n",
    "    loss.backward()\n",
    "    torch.nn.utils.clip_grad_norm_(model.parameters(), 0.5)\n",
    "    optimizer.step()\n",
    "    return loss\n",
    "\n",
    "def evaluate(model,data,target):\n",
    "    model.eval()  # 在对模型进行评估时，应该配合使用with torch.no_grad() 与 model.eval()：\n",
    "    with torch.no_grad():\n",
    "            output = model(data)#这里output 是为每个用户输出一个推荐的商品向量  targets是10个用户预测下一个购物篮中 10个商品向量 \n",
    "            loss0=0\n",
    "            for i in range(data.shape[0]):    # 让每个商品向量与这个用户真实的第11个购物篮的中的10个向量做 mse\n",
    "                loss1= criterion(output[i],target[i])\n",
    "                loss0=loss0+loss1\n",
    "            loss=loss0/float(data.shape[0])\n",
    "    return loss.item()"
   ]
  },
  {
   "cell_type": "code",
   "execution_count": 11,
   "metadata": {},
   "outputs": [
    {
     "name": "stderr",
     "output_type": "stream",
     "text": [
      "  0%|                                                                                          | 0/100 [00:00<?, ?it/s]c:\\python37\\lib\\site-packages\\torch\\nn\\modules\\loss.py:431: UserWarning: Using a target size (torch.Size([10, 200])) that is different to the input size (torch.Size([200])). This will likely lead to incorrect results due to broadcasting. Please ensure they have the same size.\n",
      "  return F.mse_loss(input, target, reduction=self.reduction)\n"
     ]
    },
    {
     "name": "stdout",
     "output_type": "stream",
     "text": [
      "0.3018422240149558\n"
     ]
    },
    {
     "name": "stderr",
     "output_type": "stream",
     "text": [
      "  1%|▊                                                                                 | 1/100 [00:11<19:16, 11.68s/it]"
     ]
    },
    {
     "name": "stdout",
     "output_type": "stream",
     "text": [
      "0.01304598582349523\n",
      "epoch时间 11.684786796569824\n",
      "0.01088136321146211\n"
     ]
    },
    {
     "name": "stderr",
     "output_type": "stream",
     "text": [
      "c:\\python37\\lib\\site-packages\\ipykernel_launcher.py:24: UserWarning: To copy construct from a tensor, it is recommended to use sourceTensor.clone().detach() or sourceTensor.clone().detach().requires_grad_(True), rather than torch.tensor(sourceTensor).\n",
      "c:\\python37\\lib\\site-packages\\ipykernel_launcher.py:25: UserWarning: To copy construct from a tensor, it is recommended to use sourceTensor.clone().detach() or sourceTensor.clone().detach().requires_grad_(True), rather than torch.tensor(sourceTensor).\n",
      "  2%|█▋                                                                                | 2/100 [00:20<16:28, 10.08s/it]"
     ]
    },
    {
     "name": "stdout",
     "output_type": "stream",
     "text": [
      "0.009361109073301158\n",
      "epoch时间 8.959418773651123\n",
      "0.010608418518044286\n"
     ]
    },
    {
     "name": "stderr",
     "output_type": "stream",
     "text": [
      "  3%|██▍                                                                               | 3/100 [00:29<15:28,  9.57s/it]"
     ]
    },
    {
     "name": "stdout",
     "output_type": "stream",
     "text": [
      "0.015125777360662365\n",
      "epoch时间 8.95371127128601\n",
      "0.010577487424992215\n"
     ]
    },
    {
     "name": "stderr",
     "output_type": "stream",
     "text": [
      "  4%|███▎                                                                              | 4/100 [00:38<14:55,  9.33s/it]"
     ]
    },
    {
     "name": "stdout",
     "output_type": "stream",
     "text": [
      "0.00882216121798147\n",
      "epoch时间 8.956299781799316\n",
      "0.008801303384705444\n"
     ]
    },
    {
     "name": "stderr",
     "output_type": "stream",
     "text": [
      "  5%|████                                                                              | 5/100 [00:47<14:34,  9.21s/it]"
     ]
    },
    {
     "name": "stdout",
     "output_type": "stream",
     "text": [
      "0.008446300194463487\n",
      "epoch时间 8.993024826049805\n",
      "0.009248740012348258\n"
     ]
    },
    {
     "name": "stderr",
     "output_type": "stream",
     "text": [
      "  6%|████▉                                                                             | 6/100 [00:56<14:18,  9.13s/it]"
     ]
    },
    {
     "name": "stdout",
     "output_type": "stream",
     "text": [
      "0.008053875598064105\n",
      "epoch时间 8.975878715515137\n",
      "0.008969627615028742\n"
     ]
    },
    {
     "name": "stderr",
     "output_type": "stream",
     "text": [
      "  7%|█████▋                                                                            | 7/100 [01:05<14:04,  9.08s/it]"
     ]
    },
    {
     "name": "stdout",
     "output_type": "stream",
     "text": [
      "0.008919138256451282\n",
      "epoch时间 8.98548150062561\n",
      "0.009960777408796915\n"
     ]
    },
    {
     "name": "stderr",
     "output_type": "stream",
     "text": [
      "  8%|██████▌                                                                           | 8/100 [01:14<13:53,  9.06s/it]"
     ]
    },
    {
     "name": "stdout",
     "output_type": "stream",
     "text": [
      "0.007872987624618646\n",
      "epoch时间 9.001225709915161\n",
      "0.008112135014274657\n"
     ]
    },
    {
     "name": "stderr",
     "output_type": "stream",
     "text": [
      "  9%|███████▍                                                                          | 9/100 [01:23<13:41,  9.03s/it]"
     ]
    },
    {
     "name": "stdout",
     "output_type": "stream",
     "text": [
      "0.007722721824850752\n",
      "epoch时间 8.971995115280151\n",
      "0.007732060397707793\n"
     ]
    },
    {
     "name": "stderr",
     "output_type": "stream",
     "text": [
      " 10%|████████                                                                         | 10/100 [01:32<13:31,  9.02s/it]"
     ]
    },
    {
     "name": "stdout",
     "output_type": "stream",
     "text": [
      "0.008500114757013748\n",
      "epoch时间 8.9846932888031\n",
      "0.007649377403280428\n"
     ]
    },
    {
     "name": "stderr",
     "output_type": "stream",
     "text": [
      " 11%|████████▉                                                                        | 11/100 [01:41<13:21,  9.01s/it]"
     ]
    },
    {
     "name": "stdout",
     "output_type": "stream",
     "text": [
      "0.008180541190930778\n",
      "epoch时间 8.986163854598999\n",
      "0.007690995922110267\n"
     ]
    },
    {
     "name": "stderr",
     "output_type": "stream",
     "text": [
      " 12%|█████████▋                                                                       | 12/100 [01:50<13:12,  9.00s/it]"
     ]
    },
    {
     "name": "stdout",
     "output_type": "stream",
     "text": [
      "0.007458574321406508\n",
      "epoch时间 8.994003057479858\n",
      "0.0073809193707860404\n"
     ]
    },
    {
     "name": "stderr",
     "output_type": "stream",
     "text": [
      " 13%|██████████▌                                                                      | 13/100 [01:59<13:03,  9.00s/it]"
     ]
    },
    {
     "name": "stdout",
     "output_type": "stream",
     "text": [
      "0.007547491870936841\n",
      "epoch时间 9.002460241317749\n",
      "0.0074820761026575255\n"
     ]
    },
    {
     "name": "stderr",
     "output_type": "stream",
     "text": [
      " 14%|███████████▎                                                                     | 14/100 [02:08<12:54,  9.01s/it]"
     ]
    },
    {
     "name": "stdout",
     "output_type": "stream",
     "text": [
      "0.007490126850032611\n",
      "epoch时间 9.010542392730713\n",
      "0.00739353003206968\n"
     ]
    },
    {
     "name": "stderr",
     "output_type": "stream",
     "text": [
      " 15%|████████████▏                                                                    | 15/100 [02:17<12:45,  9.01s/it]"
     ]
    },
    {
     "name": "stdout",
     "output_type": "stream",
     "text": [
      "0.006742187982061161\n",
      "epoch时间 9.002311706542969\n",
      "0.0072257354735388085\n"
     ]
    },
    {
     "name": "stderr",
     "output_type": "stream",
     "text": [
      " 16%|████████████▉                                                                    | 16/100 [02:26<12:35,  9.00s/it]"
     ]
    },
    {
     "name": "stdout",
     "output_type": "stream",
     "text": [
      "0.006819782376099724\n",
      "epoch时间 8.970928430557251\n",
      "0.006990076829209813\n"
     ]
    },
    {
     "name": "stderr",
     "output_type": "stream",
     "text": [
      " 17%|█████████████▊                                                                   | 17/100 [02:35<12:26,  9.00s/it]"
     ]
    },
    {
     "name": "stdout",
     "output_type": "stream",
     "text": [
      "0.00661134063683618\n",
      "epoch时间 9.010632038116455\n",
      "0.007041572228797446\n"
     ]
    },
    {
     "name": "stderr",
     "output_type": "stream",
     "text": [
      " 18%|██████████████▌                                                                  | 18/100 [02:44<12:18,  9.00s/it]"
     ]
    },
    {
     "name": "stdout",
     "output_type": "stream",
     "text": [
      "0.006760921647716307\n",
      "epoch时间 9.005455732345581\n",
      "0.007081918837768315\n"
     ]
    },
    {
     "name": "stderr",
     "output_type": "stream",
     "text": [
      " 19%|███████████████▍                                                                 | 19/100 [02:53<12:08,  9.00s/it]"
     ]
    },
    {
     "name": "stdout",
     "output_type": "stream",
     "text": [
      "0.007074982088385742\n",
      "epoch时间 8.98059368133545\n",
      "0.007141917914447975\n"
     ]
    },
    {
     "name": "stderr",
     "output_type": "stream",
     "text": [
      " 20%|████████████████▏                                                                | 20/100 [03:02<11:59,  9.00s/it]"
     ]
    },
    {
     "name": "stdout",
     "output_type": "stream",
     "text": [
      "0.007626474270530387\n",
      "epoch时间 9.00635576248169\n",
      "0.006979756834546709\n"
     ]
    },
    {
     "name": "stderr",
     "output_type": "stream",
     "text": [
      " 21%|█████████████████                                                                | 21/100 [03:11<11:50,  9.00s/it]"
     ]
    },
    {
     "name": "stdout",
     "output_type": "stream",
     "text": [
      "0.006735220868157176\n",
      "epoch时间 8.987984418869019\n",
      "0.006587215316982988\n"
     ]
    },
    {
     "name": "stderr",
     "output_type": "stream",
     "text": [
      " 22%|█████████████████▊                                                               | 22/100 [03:20<11:42,  9.01s/it]"
     ]
    },
    {
     "name": "stdout",
     "output_type": "stream",
     "text": [
      "0.006765121894791461\n",
      "epoch时间 9.030388116836548\n",
      "0.0064303393293904726\n"
     ]
    },
    {
     "name": "stderr",
     "output_type": "stream",
     "text": [
      " 23%|██████████████████▋                                                              | 23/100 [03:29<11:33,  9.01s/it]"
     ]
    },
    {
     "name": "stdout",
     "output_type": "stream",
     "text": [
      "0.006675973161425491\n",
      "epoch时间 9.016430616378784\n",
      "0.0065362543764813106\n"
     ]
    },
    {
     "name": "stderr",
     "output_type": "stream",
     "text": [
      " 24%|███████████████████▍                                                             | 24/100 [03:38<11:24,  9.01s/it]"
     ]
    },
    {
     "name": "stdout",
     "output_type": "stream",
     "text": [
      "0.006715449508106607\n",
      "epoch时间 9.020122528076172\n",
      "0.006623984274970198\n"
     ]
    },
    {
     "name": "stderr",
     "output_type": "stream",
     "text": [
      " 25%|████████████████████▎                                                            | 25/100 [03:47<11:15,  9.01s/it]"
     ]
    },
    {
     "name": "stdout",
     "output_type": "stream",
     "text": [
      "0.006934471114955936\n",
      "epoch时间 9.007415533065796\n",
      "0.006730944938698506\n"
     ]
    },
    {
     "name": "stderr",
     "output_type": "stream",
     "text": [
      " 26%|█████████████████████                                                            | 26/100 [03:56<11:06,  9.01s/it]"
     ]
    },
    {
     "name": "stdout",
     "output_type": "stream",
     "text": [
      "0.006946168596914404\n",
      "epoch时间 9.004079580307007\n",
      "0.006570018449511831\n"
     ]
    },
    {
     "name": "stderr",
     "output_type": "stream",
     "text": [
      " 27%|█████████████████████▊                                                           | 27/100 [04:05<10:58,  9.02s/it]"
     ]
    },
    {
     "name": "stdout",
     "output_type": "stream",
     "text": [
      "0.006998696363642135\n",
      "epoch时间 9.043890953063965\n",
      "0.006463060864130472\n"
     ]
    },
    {
     "name": "stderr",
     "output_type": "stream",
     "text": [
      " 28%|██████████████████████▋                                                          | 28/100 [04:14<10:50,  9.03s/it]"
     ]
    },
    {
     "name": "stdout",
     "output_type": "stream",
     "text": [
      "0.006734605438776349\n",
      "epoch时间 9.0490403175354\n",
      "0.006460288095826939\n"
     ]
    },
    {
     "name": "stderr",
     "output_type": "stream",
     "text": [
      " 29%|███████████████████████▍                                                         | 29/100 [04:23<10:39,  9.01s/it]"
     ]
    },
    {
     "name": "stdout",
     "output_type": "stream",
     "text": [
      "0.007218835626421008\n",
      "epoch时间 8.964602708816528\n",
      "0.006540883974585026\n"
     ]
    },
    {
     "name": "stderr",
     "output_type": "stream",
     "text": [
      " 30%|████████████████████████▎                                                        | 30/100 [04:32<10:29,  8.99s/it]"
     ]
    },
    {
     "name": "stdout",
     "output_type": "stream",
     "text": [
      "0.006809956691445414\n",
      "epoch时间 8.948978424072266\n",
      "0.006466369598429979\n"
     ]
    },
    {
     "name": "stderr",
     "output_type": "stream",
     "text": [
      " 31%|█████████████████████████                                                        | 31/100 [04:41<10:19,  8.98s/it]"
     ]
    },
    {
     "name": "stdout",
     "output_type": "stream",
     "text": [
      "0.006518185137039144\n",
      "epoch时间 8.939569234848022\n",
      "0.0063961330032852115\n"
     ]
    },
    {
     "name": "stderr",
     "output_type": "stream",
     "text": [
      " 32%|█████████████████████████▉                                                       | 32/100 [04:50<10:10,  8.97s/it]"
     ]
    },
    {
     "name": "stdout",
     "output_type": "stream",
     "text": [
      "0.0066643381923172165\n",
      "epoch时间 8.958318948745728\n",
      "0.006437478238066062\n"
     ]
    },
    {
     "name": "stderr",
     "output_type": "stream",
     "text": [
      " 33%|██████████████████████████▋                                                      | 33/100 [04:59<10:02,  8.99s/it]"
     ]
    },
    {
     "name": "stdout",
     "output_type": "stream",
     "text": [
      "0.006544475765564302\n",
      "epoch时间 9.020428657531738\n",
      "0.006305992848440575\n"
     ]
    },
    {
     "name": "stderr",
     "output_type": "stream",
     "text": [
      " 34%|███████████████████████████▌                                                     | 34/100 [05:08<09:52,  8.98s/it]"
     ]
    },
    {
     "name": "stdout",
     "output_type": "stream",
     "text": [
      "0.0063985565844890385\n",
      "epoch时间 8.964118242263794\n",
      "0.006232065989729091\n"
     ]
    },
    {
     "name": "stderr",
     "output_type": "stream",
     "text": [
      " 35%|████████████████████████████▎                                                    | 35/100 [05:17<09:43,  8.97s/it]"
     ]
    },
    {
     "name": "stdout",
     "output_type": "stream",
     "text": [
      "0.006337879931789171\n",
      "epoch时间 8.950155258178711\n",
      "0.006221349519996448\n"
     ]
    },
    {
     "name": "stderr",
     "output_type": "stream",
     "text": [
      " 36%|█████████████████████████████▏                                                   | 36/100 [05:26<09:33,  8.96s/it]"
     ]
    },
    {
     "name": "stdout",
     "output_type": "stream",
     "text": [
      "0.006330473823200183\n",
      "epoch时间 8.945505142211914\n",
      "0.0062501216321052214\n"
     ]
    },
    {
     "name": "stderr",
     "output_type": "stream",
     "text": [
      " 37%|█████████████████████████████▉                                                   | 37/100 [05:35<09:24,  8.96s/it]"
     ]
    },
    {
     "name": "stdout",
     "output_type": "stream",
     "text": [
      "0.006278921841615546\n",
      "epoch时间 8.93980622291565\n",
      "0.0063014866499746715\n"
     ]
    },
    {
     "name": "stderr",
     "output_type": "stream",
     "text": [
      " 38%|██████████████████████████████▊                                                  | 38/100 [05:44<09:15,  8.95s/it]"
     ]
    },
    {
     "name": "stdout",
     "output_type": "stream",
     "text": [
      "0.006338874213478372\n",
      "epoch时间 8.94584321975708\n",
      "0.006388255442331277\n"
     ]
    },
    {
     "name": "stderr",
     "output_type": "stream",
     "text": [
      " 39%|███████████████████████████████▌                                                 | 39/100 [05:53<09:06,  8.95s/it]"
     ]
    },
    {
     "name": "stdout",
     "output_type": "stream",
     "text": [
      "0.006619089451536607\n",
      "epoch时间 8.946203470230103\n",
      "0.006455190322590348\n"
     ]
    },
    {
     "name": "stderr",
     "output_type": "stream",
     "text": [
      " 40%|████████████████████████████████▍                                                | 40/100 [06:02<08:56,  8.95s/it]"
     ]
    },
    {
     "name": "stdout",
     "output_type": "stream",
     "text": [
      "0.006605500602134859\n",
      "epoch时间 8.940401315689087\n",
      "0.006414996284687582\n"
     ]
    },
    {
     "name": "stderr",
     "output_type": "stream",
     "text": [
      " 41%|█████████████████████████████████▏                                               | 41/100 [06:11<08:47,  8.94s/it]"
     ]
    },
    {
     "name": "stdout",
     "output_type": "stream",
     "text": [
      "0.006715014435702651\n",
      "epoch时间 8.925681591033936\n",
      "0.006396747514290977\n"
     ]
    },
    {
     "name": "stderr",
     "output_type": "stream",
     "text": [
      " 42%|██████████████████████████████████                                               | 42/100 [06:19<08:38,  8.94s/it]"
     ]
    },
    {
     "name": "stdout",
     "output_type": "stream",
     "text": [
      "0.006759723568762685\n",
      "epoch时间 8.94010853767395\n",
      "0.006343857722804157\n"
     ]
    },
    {
     "name": "stderr",
     "output_type": "stream",
     "text": [
      " 43%|██████████████████████████████████▊                                              | 43/100 [06:28<08:29,  8.94s/it]"
     ]
    },
    {
     "name": "stdout",
     "output_type": "stream",
     "text": [
      "0.00628416761757858\n",
      "epoch时间 8.925346851348877\n",
      "0.006192273403852134\n"
     ]
    },
    {
     "name": "stderr",
     "output_type": "stream",
     "text": [
      " 44%|███████████████████████████████████▋                                             | 44/100 [06:37<08:20,  8.94s/it]"
     ]
    },
    {
     "name": "stdout",
     "output_type": "stream",
     "text": [
      "0.006152159146774379\n",
      "epoch时间 8.942395448684692\n",
      "0.0061545042780412305\n"
     ]
    },
    {
     "name": "stderr",
     "output_type": "stream",
     "text": [
      " 45%|████████████████████████████████████▍                                            | 45/100 [06:46<08:11,  8.94s/it]"
     ]
    },
    {
     "name": "stdout",
     "output_type": "stream",
     "text": [
      "0.0061884305073783615\n",
      "epoch时间 8.927920818328857\n",
      "0.00613639498344397\n"
     ]
    },
    {
     "name": "stderr",
     "output_type": "stream",
     "text": [
      " 46%|█████████████████████████████████████▎                                           | 46/100 [06:55<08:02,  8.94s/it]"
     ]
    },
    {
     "name": "stdout",
     "output_type": "stream",
     "text": [
      "0.0061801651152842375\n",
      "epoch时间 8.946207284927368\n",
      "0.006132169133512438\n"
     ]
    },
    {
     "name": "stderr",
     "output_type": "stream",
     "text": [
      " 47%|██████████████████████████████████████                                           | 47/100 [07:04<07:53,  8.94s/it]"
     ]
    },
    {
     "name": "stdout",
     "output_type": "stream",
     "text": [
      "0.006158352473708214\n",
      "epoch时间 8.94836974143982\n",
      "0.006126415148580353\n"
     ]
    },
    {
     "name": "stderr",
     "output_type": "stream",
     "text": [
      " 48%|██████████████████████████████████████▉                                          | 48/100 [07:13<07:45,  8.95s/it]"
     ]
    },
    {
     "name": "stdout",
     "output_type": "stream",
     "text": [
      "0.0061706702977574225\n",
      "epoch时间 8.954240322113037\n",
      "0.006105510874927715\n"
     ]
    },
    {
     "name": "stderr",
     "output_type": "stream",
     "text": [
      " 49%|███████████████████████████████████████▋                                         | 49/100 [07:22<07:36,  8.95s/it]"
     ]
    },
    {
     "name": "stdout",
     "output_type": "stream",
     "text": [
      "0.006115300360123575\n",
      "epoch时间 8.955640077590942\n",
      "0.006109548457232274\n"
     ]
    },
    {
     "name": "stderr",
     "output_type": "stream",
     "text": [
      " 50%|████████████████████████████████████████▌                                        | 50/100 [07:31<07:27,  8.95s/it]"
     ]
    },
    {
     "name": "stdout",
     "output_type": "stream",
     "text": [
      "0.006088636662366914\n",
      "epoch时间 8.95455527305603\n",
      "0.006098978329708537\n"
     ]
    },
    {
     "name": "stderr",
     "output_type": "stream",
     "text": [
      " 51%|█████████████████████████████████████████▎                                       | 51/100 [07:40<07:18,  8.95s/it]"
     ]
    },
    {
     "name": "stdout",
     "output_type": "stream",
     "text": [
      "0.006086252310210736\n",
      "epoch时间 8.95342469215393\n",
      "0.006085236870773864\n"
     ]
    },
    {
     "name": "stderr",
     "output_type": "stream",
     "text": [
      " 52%|██████████████████████████████████████████                                       | 52/100 [07:49<07:09,  8.95s/it]"
     ]
    },
    {
     "name": "stdout",
     "output_type": "stream",
     "text": [
      "0.00605951845416818\n",
      "epoch时间 8.933270931243896\n",
      "0.006096708320714338\n"
     ]
    },
    {
     "name": "stderr",
     "output_type": "stream",
     "text": [
      " 53%|██████████████████████████████████████████▉                                      | 53/100 [07:58<07:00,  8.95s/it]"
     ]
    },
    {
     "name": "stdout",
     "output_type": "stream",
     "text": [
      "0.006144283110804098\n",
      "epoch时间 8.956222772598267\n",
      "0.006090673062638966\n"
     ]
    },
    {
     "name": "stderr",
     "output_type": "stream",
     "text": [
      " 54%|███████████████████████████████████████████▋                                     | 54/100 [08:07<06:51,  8.95s/it]"
     ]
    },
    {
     "name": "stdout",
     "output_type": "stream",
     "text": [
      "0.006094134779952235\n",
      "epoch时间 8.940644025802612\n",
      "0.006109820405944135\n"
     ]
    },
    {
     "name": "stderr",
     "output_type": "stream",
     "text": [
      " 55%|████████████████████████████████████████████▌                                    | 55/100 [08:16<06:42,  8.95s/it]"
     ]
    },
    {
     "name": "stdout",
     "output_type": "stream",
     "text": [
      "0.006122941943453591\n",
      "epoch时间 8.942853927612305\n",
      "0.006095298986718085\n"
     ]
    },
    {
     "name": "stderr",
     "output_type": "stream",
     "text": [
      " 56%|█████████████████████████████████████████████▎                                   | 56/100 [08:25<06:33,  8.95s/it]"
     ]
    },
    {
     "name": "stdout",
     "output_type": "stream",
     "text": [
      "0.00617946224462304\n",
      "epoch时间 8.968721389770508\n",
      "0.006088938894431579\n"
     ]
    },
    {
     "name": "stderr",
     "output_type": "stream",
     "text": [
      " 57%|██████████████████████████████████████████████▏                                  | 57/100 [08:34<06:25,  8.96s/it]"
     ]
    },
    {
     "name": "stdout",
     "output_type": "stream",
     "text": [
      "0.006312498401849773\n",
      "epoch时间 8.968363285064697\n",
      "0.0061086158145087326\n"
     ]
    },
    {
     "name": "stderr",
     "output_type": "stream",
     "text": [
      " 58%|██████████████████████████████████████████████▉                                  | 58/100 [08:43<06:16,  8.96s/it]"
     ]
    },
    {
     "name": "stdout",
     "output_type": "stream",
     "text": [
      "0.00619855202727157\n",
      "epoch时间 8.979015588760376\n",
      "0.006112211353137671\n"
     ]
    },
    {
     "name": "stderr",
     "output_type": "stream",
     "text": [
      " 59%|███████████████████████████████████████████████▊                                 | 59/100 [08:52<06:07,  8.96s/it]"
     ]
    },
    {
     "name": "stdout",
     "output_type": "stream",
     "text": [
      "0.006178141540301628\n",
      "epoch时间 8.94132947921753\n",
      "0.006076816460846162\n"
     ]
    },
    {
     "name": "stderr",
     "output_type": "stream",
     "text": [
      " 60%|████████████████████████████████████████████████▌                                | 60/100 [09:01<05:58,  8.96s/it]"
     ]
    },
    {
     "name": "stdout",
     "output_type": "stream",
     "text": [
      "0.006260807446416652\n",
      "epoch时间 8.968963384628296\n",
      "0.006067697617801198\n"
     ]
    },
    {
     "name": "stderr",
     "output_type": "stream",
     "text": [
      " 61%|█████████████████████████████████████████████████▍                               | 61/100 [09:10<05:49,  8.96s/it]"
     ]
    },
    {
     "name": "stdout",
     "output_type": "stream",
     "text": [
      "0.006288872045153645\n",
      "epoch时间 8.966100454330444\n",
      "0.0060798271289764115\n"
     ]
    },
    {
     "name": "stderr",
     "output_type": "stream",
     "text": [
      " 62%|██████████████████████████████████████████████████▏                              | 62/100 [09:19<05:41,  8.99s/it]"
     ]
    },
    {
     "name": "stdout",
     "output_type": "stream",
     "text": [
      "0.006228047356965027\n",
      "epoch时间 9.040044069290161\n",
      "0.0060995945940260105\n"
     ]
    },
    {
     "name": "stderr",
     "output_type": "stream",
     "text": [
      " 63%|███████████████████████████████████████████████████                              | 63/100 [09:28<05:33,  9.01s/it]"
     ]
    },
    {
     "name": "stdout",
     "output_type": "stream",
     "text": [
      "0.006191233375208592\n",
      "epoch时间 9.058071374893188\n",
      "0.006125623722347585\n"
     ]
    },
    {
     "name": "stderr",
     "output_type": "stream",
     "text": [
      " 64%|███████████████████████████████████████████████████▊                             | 64/100 [09:37<05:24,  9.01s/it]"
     ]
    },
    {
     "name": "stdout",
     "output_type": "stream",
     "text": [
      "0.0062888677325374015\n",
      "epoch时间 9.027916669845581\n",
      "0.006144958415851578\n"
     ]
    },
    {
     "name": "stderr",
     "output_type": "stream",
     "text": [
      " 65%|████████████████████████████████████████████████████▋                            | 65/100 [09:46<05:15,  9.02s/it]"
     ]
    },
    {
     "name": "stdout",
     "output_type": "stream",
     "text": [
      "0.006509340015944699\n",
      "epoch时间 9.033876180648804\n",
      "0.006147974486848856\n"
     ]
    },
    {
     "name": "stderr",
     "output_type": "stream",
     "text": [
      " 66%|█████████████████████████████████████████████████████▍                           | 66/100 [09:55<05:07,  9.04s/it]"
     ]
    },
    {
     "name": "stdout",
     "output_type": "stream",
     "text": [
      "0.006433745453497416\n",
      "epoch时间 9.070428133010864\n",
      "0.006133318396548158\n"
     ]
    },
    {
     "name": "stderr",
     "output_type": "stream",
     "text": [
      " 67%|██████████████████████████████████████████████████████▎                          | 67/100 [10:04<04:58,  9.05s/it]"
     ]
    },
    {
     "name": "stdout",
     "output_type": "stream",
     "text": [
      "0.006413311572142743\n",
      "epoch时间 9.084778308868408\n",
      "0.006152762556878795\n"
     ]
    },
    {
     "name": "stderr",
     "output_type": "stream",
     "text": [
      " 68%|███████████████████████████████████████████████████████                          | 68/100 [10:13<04:48,  9.01s/it]"
     ]
    },
    {
     "name": "stdout",
     "output_type": "stream",
     "text": [
      "0.006435241521288943\n",
      "epoch时间 8.930107355117798\n",
      "0.0060971183176985145\n"
     ]
    },
    {
     "name": "stderr",
     "output_type": "stream",
     "text": [
      " 69%|███████████████████████████████████████████████████████▉                         | 69/100 [10:22<04:38,  8.99s/it]"
     ]
    },
    {
     "name": "stdout",
     "output_type": "stream",
     "text": [
      "0.00624727710865613\n",
      "epoch时间 8.925387144088745\n",
      "0.006056698775097826\n"
     ]
    },
    {
     "name": "stderr",
     "output_type": "stream",
     "text": [
      " 70%|████████████████████████████████████████████████████████▋                        | 70/100 [10:31<04:29,  8.97s/it]"
     ]
    },
    {
     "name": "stdout",
     "output_type": "stream",
     "text": [
      "0.006207234000478887\n",
      "epoch时间 8.923860311508179\n",
      "0.006065608957575713\n"
     ]
    },
    {
     "name": "stderr",
     "output_type": "stream",
     "text": [
      " 71%|█████████████████████████████████████████████████████████▌                       | 71/100 [10:40<04:19,  8.95s/it]"
     ]
    },
    {
     "name": "stdout",
     "output_type": "stream",
     "text": [
      "0.006173961780023302\n",
      "epoch时间 8.908629179000854\n",
      "0.006047430993603249\n"
     ]
    },
    {
     "name": "stderr",
     "output_type": "stream",
     "text": [
      " 72%|██████████████████████████████████████████████████████████▎                      | 72/100 [10:48<04:10,  8.94s/it]"
     ]
    },
    {
     "name": "stdout",
     "output_type": "stream",
     "text": [
      "0.006099347730283647\n",
      "epoch时间 8.917744636535645\n",
      "0.006032749416617484\n"
     ]
    },
    {
     "name": "stderr",
     "output_type": "stream",
     "text": [
      " 73%|███████████████████████████████████████████████████████████▏                     | 73/100 [10:57<04:01,  8.93s/it]"
     ]
    },
    {
     "name": "stdout",
     "output_type": "stream",
     "text": [
      "0.006093399739257846\n",
      "epoch时间 8.913599491119385\n",
      "0.006029276186884126\n"
     ]
    },
    {
     "name": "stderr",
     "output_type": "stream",
     "text": [
      " 74%|███████████████████████████████████████████████████████████▉                     | 74/100 [11:06<03:52,  8.93s/it]"
     ]
    },
    {
     "name": "stdout",
     "output_type": "stream",
     "text": [
      "0.006075345515898385\n",
      "epoch时间 8.926247119903564\n",
      "0.006027271481930326\n"
     ]
    },
    {
     "name": "stderr",
     "output_type": "stream",
     "text": [
      " 75%|████████████████████████████████████████████████████████████▊                    | 75/100 [11:15<03:43,  8.93s/it]"
     ]
    },
    {
     "name": "stdout",
     "output_type": "stream",
     "text": [
      "0.006067778495425618\n",
      "epoch时间 8.92019248008728\n",
      "0.00603489622311768\n"
     ]
    },
    {
     "name": "stderr",
     "output_type": "stream",
     "text": [
      " 76%|█████████████████████████████████████████████████████████████▌                   | 76/100 [11:24<03:34,  8.95s/it]"
     ]
    },
    {
     "name": "stdout",
     "output_type": "stream",
     "text": [
      "0.0061114874521475\n",
      "epoch时间 8.997739315032959\n",
      "0.006049020257589763\n"
     ]
    },
    {
     "name": "stderr",
     "output_type": "stream",
     "text": [
      " 77%|██████████████████████████████████████████████████████████████▎                  | 77/100 [11:33<03:25,  8.95s/it]"
     ]
    },
    {
     "name": "stdout",
     "output_type": "stream",
     "text": [
      "0.006154292429486491\n",
      "epoch时间 8.944647312164307\n",
      "0.006047182129274233\n"
     ]
    },
    {
     "name": "stderr",
     "output_type": "stream",
     "text": [
      " 78%|███████████████████████████████████████████████████████████████▏                 | 78/100 [11:42<03:16,  8.95s/it]"
     ]
    },
    {
     "name": "stdout",
     "output_type": "stream",
     "text": [
      "0.006076138223900347\n",
      "epoch时间 8.942934513092041\n",
      "0.0060416619964954186\n"
     ]
    },
    {
     "name": "stderr",
     "output_type": "stream",
     "text": [
      " 79%|███████████████████████████████████████████████████████████████▉                 | 79/100 [11:51<03:07,  8.95s/it]"
     ]
    },
    {
     "name": "stdout",
     "output_type": "stream",
     "text": [
      "0.006125502921460448\n",
      "epoch时间 8.948175430297852\n",
      "0.006038536626341426\n"
     ]
    },
    {
     "name": "stderr",
     "output_type": "stream",
     "text": [
      " 80%|████████████████████████████████████████████████████████████████▊                | 80/100 [12:00<02:58,  8.94s/it]"
     ]
    },
    {
     "name": "stdout",
     "output_type": "stream",
     "text": [
      "0.006063342902914696\n",
      "epoch时间 8.916070222854614\n",
      "0.006036611672508308\n"
     ]
    },
    {
     "name": "stderr",
     "output_type": "stream",
     "text": [
      " 81%|█████████████████████████████████████████████████████████████████▌               | 81/100 [12:09<02:49,  8.93s/it]"
     ]
    },
    {
     "name": "stdout",
     "output_type": "stream",
     "text": [
      "0.006071848009327542\n",
      "epoch时间 8.915762186050415\n",
      "0.006031849567386239\n"
     ]
    },
    {
     "name": "stderr",
     "output_type": "stream",
     "text": [
      " 82%|██████████████████████████████████████████████████████████████████▍              | 82/100 [12:18<02:40,  8.92s/it]"
     ]
    },
    {
     "name": "stdout",
     "output_type": "stream",
     "text": [
      "0.006050779371767017\n",
      "epoch时间 8.909358263015747\n",
      "0.0060366104654109186\n"
     ]
    },
    {
     "name": "stderr",
     "output_type": "stream",
     "text": [
      " 83%|███████████████████████████████████████████████████████████████████▏             | 83/100 [12:27<02:31,  8.92s/it]"
     ]
    },
    {
     "name": "stdout",
     "output_type": "stream",
     "text": [
      "0.006091105973602804\n",
      "epoch时间 8.9226553440094\n",
      "0.00602987705114328\n"
     ]
    },
    {
     "name": "stderr",
     "output_type": "stream",
     "text": [
      " 84%|████████████████████████████████████████████████████████████████████             | 84/100 [12:36<02:22,  8.93s/it]"
     ]
    },
    {
     "name": "stdout",
     "output_type": "stream",
     "text": [
      "0.006071375763555051\n",
      "epoch时间 8.92867922782898\n",
      "0.006034515589081634\n"
     ]
    },
    {
     "name": "stderr",
     "output_type": "stream",
     "text": [
      " 85%|████████████████████████████████████████████████████████████████████▊            | 85/100 [12:45<02:13,  8.93s/it]"
     ]
    },
    {
     "name": "stdout",
     "output_type": "stream",
     "text": [
      "0.006087552341971265\n",
      "epoch时间 8.927436113357544\n",
      "0.006035609417315066\n"
     ]
    },
    {
     "name": "stderr",
     "output_type": "stream",
     "text": [
      " 86%|█████████████████████████████████████████████████████████████████████▋           | 86/100 [12:54<02:04,  8.92s/it]"
     ]
    },
    {
     "name": "stdout",
     "output_type": "stream",
     "text": [
      "0.006080472898504923\n",
      "epoch时间 8.911311149597168\n",
      "0.006037711072978379\n"
     ]
    },
    {
     "name": "stderr",
     "output_type": "stream",
     "text": [
      " 87%|██████████████████████████████████████████████████████████████████████▍          | 87/100 [13:02<01:55,  8.92s/it]"
     ]
    },
    {
     "name": "stdout",
     "output_type": "stream",
     "text": [
      "0.006114505527471663\n",
      "epoch时间 8.905301094055176\n",
      "0.006028369426085084\n"
     ]
    },
    {
     "name": "stderr",
     "output_type": "stream",
     "text": [
      " 88%|███████████████████████████████████████████████████████████████████████▎         | 88/100 [13:11<01:47,  8.92s/it]"
     ]
    },
    {
     "name": "stdout",
     "output_type": "stream",
     "text": [
      "0.006050071035241329\n",
      "epoch时间 8.923368453979492\n",
      "0.00602612003445225\n"
     ]
    },
    {
     "name": "stderr",
     "output_type": "stream",
     "text": [
      " 89%|████████████████████████████████████████████████████████████████████████         | 89/100 [13:20<01:38,  8.92s/it]"
     ]
    },
    {
     "name": "stdout",
     "output_type": "stream",
     "text": [
      "0.006066648103909346\n",
      "epoch时间 8.923205614089966\n",
      "0.006019463413415747\n"
     ]
    },
    {
     "name": "stderr",
     "output_type": "stream",
     "text": [
      " 90%|████████████████████████████████████████████████████████████████████████▉        | 90/100 [13:29<01:29,  8.92s/it]"
     ]
    },
    {
     "name": "stdout",
     "output_type": "stream",
     "text": [
      "0.006042648302345592\n",
      "epoch时间 8.913596868515015\n",
      "0.006020575469066341\n"
     ]
    },
    {
     "name": "stderr",
     "output_type": "stream",
     "text": [
      " 91%|█████████████████████████████████████████████████████████████████████████▋       | 91/100 [13:38<01:20,  8.92s/it]"
     ]
    },
    {
     "name": "stdout",
     "output_type": "stream",
     "text": [
      "0.006115553319101575\n",
      "epoch时间 8.913865804672241\n",
      "0.006026715804195389\n"
     ]
    },
    {
     "name": "stderr",
     "output_type": "stream",
     "text": [
      " 92%|██████████████████████████████████████████████████████████████████████████▌      | 92/100 [13:47<01:11,  8.92s/it]"
     ]
    },
    {
     "name": "stdout",
     "output_type": "stream",
     "text": [
      "0.006191881519703621\n",
      "epoch时间 8.910310506820679\n",
      "0.0060213466307941985\n"
     ]
    },
    {
     "name": "stderr",
     "output_type": "stream",
     "text": [
      " 93%|███████████████████████████████████████████████████████████████████████████▎     | 93/100 [13:56<01:02,  8.92s/it]"
     ]
    },
    {
     "name": "stdout",
     "output_type": "stream",
     "text": [
      "0.006164651267396112\n",
      "epoch时间 8.921375036239624\n",
      "0.0060232500885059985\n"
     ]
    },
    {
     "name": "stderr",
     "output_type": "stream",
     "text": [
      " 94%|████████████████████████████████████████████████████████████████████████████▏    | 94/100 [14:05<00:53,  8.92s/it]"
     ]
    },
    {
     "name": "stdout",
     "output_type": "stream",
     "text": [
      "0.006131267573743512\n",
      "epoch时间 8.923135042190552\n",
      "0.006023992156256389\n"
     ]
    },
    {
     "name": "stderr",
     "output_type": "stream",
     "text": [
      " 95%|████████████████████████████████████████████████████████████████████████████▉    | 95/100 [14:14<00:44,  8.93s/it]"
     ]
    },
    {
     "name": "stdout",
     "output_type": "stream",
     "text": [
      "0.006163833730381252\n",
      "epoch时间 8.940157413482666\n",
      "0.0060299721688756545\n"
     ]
    },
    {
     "name": "stderr",
     "output_type": "stream",
     "text": [
      " 96%|█████████████████████████████████████████████████████████████████████████████▊   | 96/100 [14:23<00:35,  8.93s/it]"
     ]
    },
    {
     "name": "stdout",
     "output_type": "stream",
     "text": [
      "0.006293627522169877\n",
      "epoch时间 8.92674970626831\n",
      "0.00604507264358287\n"
     ]
    },
    {
     "name": "stderr",
     "output_type": "stream",
     "text": [
      " 97%|██████████████████████████████████████████████████████████████████████████████▌  | 97/100 [14:32<00:26,  8.92s/it]"
     ]
    },
    {
     "name": "stdout",
     "output_type": "stream",
     "text": [
      "0.0063237782111600594\n",
      "epoch时间 8.915989637374878\n",
      "0.006054397059466185\n"
     ]
    },
    {
     "name": "stderr",
     "output_type": "stream",
     "text": [
      " 98%|███████████████████████████████████████████████████████████████████████████████▍ | 98/100 [14:41<00:17,  8.92s/it]"
     ]
    },
    {
     "name": "stdout",
     "output_type": "stream",
     "text": [
      "0.006109750322015269\n",
      "epoch时间 8.91679048538208\n",
      "0.006028490135585456\n"
     ]
    },
    {
     "name": "stderr",
     "output_type": "stream",
     "text": [
      " 99%|████████████████████████████████████████████████████████████████████████████████▏| 99/100 [14:50<00:08,  8.93s/it]"
     ]
    },
    {
     "name": "stdout",
     "output_type": "stream",
     "text": [
      "0.0059940878377590405\n",
      "epoch时间 8.950535297393799\n",
      "0.006015057923251787\n"
     ]
    },
    {
     "name": "stderr",
     "output_type": "stream",
     "text": [
      "100%|████████████████████████████████████████████████████████████████████████████████| 100/100 [14:58<00:00,  8.99s/it]"
     ]
    },
    {
     "name": "stdout",
     "output_type": "stream",
     "text": [
      "0.006071393141952439\n",
      "epoch时间 8.906193971633911\n"
     ]
    },
    {
     "name": "stderr",
     "output_type": "stream",
     "text": [
      "\n"
     ]
    }
   ],
   "source": [
    "val_loss=[] \n",
    "train_loss=[]\n",
    "for epoch in tqdm(range(epochs)):\n",
    "    epoch_start_time = time.time()\n",
    "    \n",
    "    train_epoch_loss=0\n",
    "    idx=0\n",
    "    for i in range(0,len(train_x_data),256):#\n",
    "            idx=idx+1\n",
    "            train_x=train_sum_x[i:int(i)+256] \n",
    "            train_y=train_sum_y[i:int(i)+256]\n",
    "            \n",
    "            train_x = torch.tensor(train_x).to(device)\n",
    "            train_y = torch.tensor(train_y).to(device)\n",
    "            \n",
    "            train_batch_loss=train(train_x,train_y)  #每个batch的损失\n",
    "#             print(train_batch_loss.item())\n",
    "\n",
    "            train_epoch_loss=train_epoch_loss+train_batch_loss\n",
    "    \n",
    "    print(train_epoch_loss.item()/float(idx))\n",
    "    train_loss.append(train_epoch_loss.item()/float(idx))\n",
    "    \n",
    "    test_x_data = torch.tensor(test_x_data).to(device)\n",
    "    test_y_data = torch.tensor(test_y_data).to(device)\n",
    "    v_loss=evaluate(model,test_x_data,test_y_data) # 试数据所有的损失 \n",
    "    \n",
    "    print(v_loss)\n",
    "    val_loss.append(v_loss)\n",
    "    \n",
    "    print(\"epoch时间\",(time.time() - epoch_start_time))"
   ]
  },
  {
   "cell_type": "code",
   "execution_count": 12,
   "metadata": {},
   "outputs": [
    {
     "name": "stdout",
     "output_type": "stream",
     "text": [
      "[0.01304598582349523, 0.009361109073301158, 0.015125777360662365, 0.00882216121798147, 0.008446300194463487, 0.008053875598064105, 0.008919138256451282, 0.007872987624618646, 0.007722721824850752, 0.008500114757013748, 0.008180541190930778, 0.007458574321406508, 0.007547491870936841, 0.007490126850032611, 0.006742187982061161, 0.006819782376099724, 0.00661134063683618, 0.006760921647716307, 0.007074982088385742, 0.007626474270530387, 0.006735220868157176, 0.006765121894791461, 0.006675973161425491, 0.006715449508106607, 0.006934471114955936, 0.006946168596914404, 0.006998696363642135, 0.006734605438776349, 0.007218835626421008, 0.006809956691445414, 0.006518185137039144, 0.0066643381923172165, 0.006544475765564302, 0.0063985565844890385, 0.006337879931789171, 0.006330473823200183, 0.006278921841615546, 0.006338874213478372, 0.006619089451536607, 0.006605500602134859, 0.006715014435702651, 0.006759723568762685, 0.00628416761757858, 0.006152159146774379, 0.0061884305073783615, 0.0061801651152842375, 0.006158352473708214, 0.0061706702977574225, 0.006115300360123575, 0.006088636662366914, 0.006086252310210736, 0.00605951845416818, 0.006144283110804098, 0.006094134779952235, 0.006122941943453591, 0.00617946224462304, 0.006312498401849773, 0.00619855202727157, 0.006178141540301628, 0.006260807446416652, 0.006288872045153645, 0.006228047356965027, 0.006191233375208592, 0.0062888677325374015, 0.006509340015944699, 0.006433745453497416, 0.006413311572142743, 0.006435241521288943, 0.00624727710865613, 0.006207234000478887, 0.006173961780023302, 0.006099347730283647, 0.006093399739257846, 0.006075345515898385, 0.006067778495425618, 0.0061114874521475, 0.006154292429486491, 0.006076138223900347, 0.006125502921460448, 0.006063342902914696, 0.006071848009327542, 0.006050779371767017, 0.006091105973602804, 0.006071375763555051, 0.006087552341971265, 0.006080472898504923, 0.006114505527471663, 0.006050071035241329, 0.006066648103909346, 0.006042648302345592, 0.006115553319101575, 0.006191881519703621, 0.006164651267396112, 0.006131267573743512, 0.006163833730381252, 0.006293627522169877, 0.0063237782111600594, 0.006109750322015269, 0.0059940878377590405, 0.006071393141952439]\n",
      "[0.3018422240149558, 0.01088136321146211, 0.010608418518044286, 0.010577487424992215, 0.008801303384705444, 0.009248740012348258, 0.008969627615028742, 0.009960777408796915, 0.008112135014274657, 0.007732060397707793, 0.007649377403280428, 0.007690995922110267, 0.0073809193707860404, 0.0074820761026575255, 0.00739353003206968, 0.0072257354735388085, 0.006990076829209813, 0.007041572228797446, 0.007081918837768315, 0.007141917914447975, 0.006979756834546709, 0.006587215316982988, 0.0064303393293904726, 0.0065362543764813106, 0.006623984274970198, 0.006730944938698506, 0.006570018449511831, 0.006463060864130472, 0.006460288095826939, 0.006540883974585026, 0.006466369598429979, 0.0063961330032852115, 0.006437478238066062, 0.006305992848440575, 0.006232065989729091, 0.006221349519996448, 0.0062501216321052214, 0.0063014866499746715, 0.006388255442331277, 0.006455190322590348, 0.006414996284687582, 0.006396747514290977, 0.006343857722804157, 0.006192273403852134, 0.0061545042780412305, 0.00613639498344397, 0.006132169133512438, 0.006126415148580353, 0.006105510874927715, 0.006109548457232274, 0.006098978329708537, 0.006085236870773864, 0.006096708320714338, 0.006090673062638966, 0.006109820405944135, 0.006095298986718085, 0.006088938894431579, 0.0061086158145087326, 0.006112211353137671, 0.006076816460846162, 0.006067697617801198, 0.0060798271289764115, 0.0060995945940260105, 0.006125623722347585, 0.006144958415851578, 0.006147974486848856, 0.006133318396548158, 0.006152762556878795, 0.0060971183176985145, 0.006056698775097826, 0.006065608957575713, 0.006047430993603249, 0.006032749416617484, 0.006029276186884126, 0.006027271481930326, 0.00603489622311768, 0.006049020257589763, 0.006047182129274233, 0.0060416619964954186, 0.006038536626341426, 0.006036611672508308, 0.006031849567386239, 0.0060366104654109186, 0.00602987705114328, 0.006034515589081634, 0.006035609417315066, 0.006037711072978379, 0.006028369426085084, 0.00602612003445225, 0.006019463413415747, 0.006020575469066341, 0.006026715804195389, 0.0060213466307941985, 0.0060232500885059985, 0.006023992156256389, 0.0060299721688756545, 0.00604507264358287, 0.006054397059466185, 0.006028490135585456, 0.006015057923251787]\n"
     ]
    }
   ],
   "source": [
    "print(val_loss)\n",
    "print(train_loss)\n",
    "# print(max(val_loss))\n",
    "# print(max(train_loss))"
   ]
  },
  {
   "cell_type": "code",
   "execution_count": 13,
   "metadata": {},
   "outputs": [
    {
     "name": "stdout",
     "output_type": "stream",
     "text": [
      "[0, 1, 2, 3, 4, 5, 6, 7, 8, 9, 10, 11, 12, 13, 14, 15, 16, 17, 18, 19, 20, 21, 22, 23, 24, 25, 26, 27, 28, 29, 30, 31, 32, 33, 34, 35, 36, 37, 38, 39, 40, 41, 42, 43, 44, 45, 46, 47, 48, 49, 50, 51, 52, 53, 54, 55, 56, 57, 58, 59, 60, 61, 62, 63, 64, 65, 66, 67, 68, 69, 70, 71, 72, 73, 74, 75, 76, 77, 78, 79, 80, 81, 82, 83, 84, 85, 86, 87, 88, 89, 90, 91, 92, 93, 94, 95, 96, 97, 98, 99]\n"
     ]
    }
   ],
   "source": [
    "A =[i for i in range(0,len(train_loss),1)]\n",
    "print(A)"
   ]
  },
  {
   "cell_type": "code",
   "execution_count": 14,
   "metadata": {},
   "outputs": [
    {
     "data": {
      "image/png": "[encoded data removed]",
      "text/plain": [
       "<Figure size 720x504 with 1 Axes>"
      ]
     },
     "metadata": {},
     "output_type": "display_data"
    }
   ],
   "source": [
    "# 画图\n",
    "fig = plt.figure(facecolor='white', figsize=(10,7 ))\n",
    "plt.xlabel('X')\n",
    "plt.ylabel('Y')\n",
    "plt.xlim(xmax=len(train_loss),xmin=0)\n",
    "plt.ylim(ymax=max(train_loss),ymin=0)\n",
    "x2 =[i for i in range(0,len(train_loss),1)]\n",
    "y2 = train_loss\n",
    "colors2 = '#DC143C'\n",
    "area = np.pi * 4**1  # 点面积 \n",
    "plt.scatter(x2, y2, s=area, c=colors2, alpha=0.4, label='train_loss')\n",
    "\n",
    "plt.legend()\n",
    "\n",
    "plt.show()"
   ]
  },
  {
   "cell_type": "code",
   "execution_count": 15,
   "metadata": {},
   "outputs": [
    {
     "data": {
      "image/png": "[encoded data removed]",
      "text/plain": [
       "<Figure size 720x504 with 1 Axes>"
      ]
     },
     "metadata": {},
     "output_type": "display_data"
    }
   ],
   "source": [
    "# 画图\n",
    "fig = plt.figure(facecolor='white', figsize=(10,7 ))\n",
    "plt.xlabel('X')\n",
    "plt.ylabel('Y')\n",
    "plt.xlim(xmax=len(val_loss),xmin=0)\n",
    "plt.ylim(ymax=max(val_loss),ymin=0)\n",
    "x2 =[i for i in range(0,len(val_loss),1)]\n",
    "y2 = val_loss\n",
    "colors2 = '#DC143C'\n",
    "area = np.pi * 4**1  # 点面积 \n",
    "plt.scatter(x2, y2, s=area, c=colors2, alpha=0.4, label='val_loss')\n",
    "\n",
    "plt.legend()\n",
    "\n",
    "plt.show()"
   ]
  },
  {
   "cell_type": "code",
   "execution_count": 16,
   "metadata": {},
   "outputs": [
    {
     "data": {
      "image/png": "[encoded data removed]",
      "text/plain": [
       "<Figure size 720x504 with 1 Axes>"
      ]
     },
     "metadata": {},
     "output_type": "display_data"
    }
   ],
   "source": [
    "# 画图\n",
    "fig = plt.figure(facecolor='white', figsize=(10,7 ))\n",
    "plt.xlabel('X')\n",
    "plt.ylabel('Y')\n",
    "plt.xlim(xmax=len(val_loss),xmin=0)\n",
    "plt.ylim(ymax=0.02,ymin=0)\n",
    "#画两条（0-9）的坐标轴并设置轴标签x，y\n",
    " \n",
    "x1 =[i for i in range(0,len(train_loss),1)] # 随机产生300个平均值为2，方差为1.2的浮点数，即第一簇点的x轴坐标\n",
    "y1 = val_loss # 随机产生300个平均值为2，方差为1.2的浮点数，即第一簇点的y轴坐标\n",
    "\n",
    "x2 = [i for i in range(0,len(train_loss),1)]\n",
    "y2 = train_loss \n",
    "\n",
    "colors1 = '#00CED4' #点的颜色\n",
    "colors2 = '#DC143C'\n",
    "area = np.pi * 4**1  # 点面积 \n",
    "# 画散点图\n",
    "plt.scatter(x1, y1, s=area, c=colors1, alpha=0.4, label='val_loss')\n",
    "plt.scatter(x2, y2, s=area, c=colors2, alpha=0.4, label='train_loss')\n",
    "# plt.plot([0,9.5],[9.5,0],linewidth = '0.5',color='#000000')\n",
    "plt.legend()\n",
    "# plt.savefig(r'C:\\Users\\jichao\\Desktop\\大论文\\12345svm.png', dpi=300)\n",
    "plt.show()"
   ]
  }
 ],
 "metadata": {
  "kernelspec": {
   "display_name": "Python 3",
   "language": "python",
   "name": "python3"
  },
  "language_info": {
   "codemirror_mode": {
    "name": "ipython",
    "version": 3
   },
   "file_extension": ".py",
   "mimetype": "text/x-python",
   "name": "python",
   "nbconvert_exporter": "python",
   "pygments_lexer": "ipython3",
   "version": "3.7.0"
  }
 },
 "nbformat": 4,
 "nbformat_minor": 4
}
