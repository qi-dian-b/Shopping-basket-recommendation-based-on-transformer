{
 "cells": [
  {
   "cell_type": "code",
   "execution_count": 2,
   "metadata": {},
   "outputs": [],
   "source": [
    "import pandas as pd\n",
    "import numpy as np\n",
    "import torch\n",
    "import torch.nn as nn\n",
    "from torch.utils.data import Dataset  # Dataset是个抽象类，只能用于继承\n",
    "from torch.utils.data import DataLoader # DataLoader需实例化，用于加载数据\n",
    "from sklearn.model_selection import train_test_split\n",
    "\n",
    "import math\n",
    "from tqdm import tqdm\n",
    "from itertools import islice"
   ]
  },
  {
   "cell_type": "markdown",
   "metadata": {},
   "source": [
    "# 超参数"
   ]
  },
  {
   "cell_type": "code",
   "execution_count": 3,
   "metadata": {},
   "outputs": [],
   "source": [
    "class ModelConfig(object):\n",
    "    \"\"\"配置类，用于存储超参数的配置。\n",
    "    \"\"\"\n",
    "    def __init__(self):\n",
    "        # embedding参数\n",
    "        \n",
    "        # transformer模型参数\n",
    "        self.d_model = 512\n",
    "        self.nhead = 8\n",
    "        self.num_encoder_layers = 6\n",
    "        self.num_decoder_layers = 6\n",
    "        self.dim_feedforward = 2048\n",
    "        self.dropout = 0.1\n",
    "        self.activation = 'relu'\n",
    "        self.custom_encoder \n",
    "        self.custom_decoder "
   ]
  },
  {
   "cell_type": "code",
   "execution_count": 21,
   "metadata": {},
   "outputs": [],
   "source": [
    "# 超参数\n",
    "SRC_LEN = 8\n",
    "LABEL_LEN = 3\n",
    "PRED_LEN = 1\n",
    "\n",
    "BATCH_SIZE = 16\n",
    "\n",
    "device = torch.device(\"cuda\" if torch.cuda.is_available() else \"cpu\")"
   ]
  },
  {
   "cell_type": "markdown",
   "metadata": {},
   "source": [
    "# 数据加载"
   ]
  },
  {
   "cell_type": "code",
   "execution_count": 4,
   "metadata": {},
   "outputs": [],
   "source": [
    "def get_processed_data():\n",
    "    data_path = 'D:/workspace/PROJECTS/天文台视宁度预测项目/data/data_v1/AllData_V1/normalized_data.csv'\n",
    "    data = pd.read_csv(data_path).drop('time', axis=1)\n",
    "    return data"
   ]
  },
  {
   "cell_type": "code",
   "execution_count": 5,
   "metadata": {},
   "outputs": [],
   "source": [
    "def get_seq_info():\n",
    "    seq_info_path = 'D:/workspace/PROJECTS/天文台视宁度预测项目/data/data_v1/AllData_V1/seq_info.csv'\n",
    "    seq_info = pd.read_csv(seq_info_path)\n",
    "    # 纠错\n",
    "    seq_info.loc[:,'seq_len'] = seq_info.loc[:,'seq_len']+1\n",
    "    seq_info = seq_info.shift(1)\n",
    "    seq_info.loc[0,'seq_len']=0\n",
    "    for i in range(1, seq_info.shape[0]):\n",
    "        seq_info.loc[i,'seq_len'] += seq_info.loc[i-1,'seq_len']\n",
    "    # 制作范围表\n",
    "    seq_info = seq_info[['seq_len']]\n",
    "    seq_info = seq_info.rename(columns={'seq_len':'start_idx'})\n",
    "    seq_info['end_idx'] = seq_info.shift(-1)\n",
    "    seq_info.iloc[-1,1]=-1\n",
    "    seq_info = seq_info.applymap(lambda x:int(x))\n",
    "    return seq_info"
   ]
  },
  {
   "cell_type": "code",
   "execution_count": 6,
   "metadata": {},
   "outputs": [],
   "source": [
    "def get_padding_mask(data, padding_len):\n",
    "    data_len = data.shape[0]\n",
    "    data_dim = data.shape[1]\n",
    "    if data_len < padding_len:\n",
    "        # padding mask\n",
    "        padding_mask = np.ones(padding_len)\n",
    "        padding_mask[-data_len:]=0   # 前面padding\n",
    "        # padding data\n",
    "        data2 = np.zeros((padding_len, data_dim))\n",
    "        data2[-data_len:,:] = data\n",
    "        data2 = pd.DataFrame(data2, columns=data.columns)\n",
    "    else:\n",
    "        padding_mask = np.zeros(data_len)\n",
    "        data2 = data\n",
    "    return data2, padding_mask"
   ]
  },
  {
   "cell_type": "code",
   "execution_count": 7,
   "metadata": {},
   "outputs": [],
   "source": [
    "class Dataset_normalized_data(Dataset):\n",
    "    def __init__(self, data, src_len, label_len, pred_len=PRED_LEN):\n",
    "        self.data = data\n",
    "        self.src_len = src_len   # encoder输入序列长度\n",
    "        self.label_len = label_len  # src与tgt交叉部分的长度\n",
    "        self.pred_len = pred_len  # 要预测序列的长度\n",
    "        \n",
    "        self.tgt_len = self.label_len + self.pred_len  # decoder输入序列长度\n",
    "        self.total_len = self.src_len + self.pred_len  # 整体模型输入序列的长度\n",
    "        \n",
    "        assert self.data.shape[0] >= self.tgt_len\n",
    "        self.data, self.padding_mask = get_padding_mask(self.data, self.total_len)\n",
    "        \n",
    "        self.data_len = self.data.shape[0]   # 数据总长度\n",
    "        self.index_len = self.data_len - self.total_len + 1  # 数据加载器的索引长度\n",
    "        \n",
    "        self.data_x = self.data.drop('ccd_avg', axis=1).values\n",
    "\n",
    "        self.data_y = self.data[['ccd_avg']].values\n",
    "\n",
    "    def __getitem__(self, index):\n",
    "        src_begin = index\n",
    "        src_end = src_begin + self.src_len\n",
    "        \n",
    "        tgt_begin = src_end - self.tgt_len\n",
    "        tgt_end = src_end\n",
    "        \n",
    "        y_true_begin = src_end - self.label_len\n",
    "        y_true_end = y_true_begin + self.tgt_len\n",
    "        \n",
    "        src_x = self.data_x[src_begin:src_end, :]\n",
    "        src_y = self.data_y[src_begin:src_end, :]\n",
    "        src_key_padding_mask = self.padding_mask[src_begin:src_end]\n",
    "        \n",
    "        tgt_x = self.data_x[tgt_begin:tgt_end, :]\n",
    "        tgt_y = self.data_y[tgt_begin:tgt_end, :]\n",
    "        tgt_key_padding_mask = self.padding_mask[tgt_begin:tgt_end].copy()\n",
    "        \n",
    "#         tgt_key_padding_mask[-self.pred_len:]=1  # 遮蔽掉要预测的序列，为什么一遮蔽模型就输出nan？\n",
    "\n",
    "        y_true = self.data_y[y_true_begin: y_true_end]\n",
    "\n",
    "        src_x, src_y, src_key_padding_mask, tgt_x, tgt_y, tgt_key_padding_mask, y_true = \\\n",
    "        [torch.Tensor(d) for d in [src_x, src_y, src_key_padding_mask, tgt_x, tgt_y, tgt_key_padding_mask, y_true]]\n",
    "        \n",
    "        return src_x, src_y, src_key_padding_mask, tgt_x, tgt_y, tgt_key_padding_mask, y_true\n",
    "    \n",
    "    def __len__(self):\n",
    "        return self.index_len"
   ]
  },
  {
   "cell_type": "code",
   "execution_count": 8,
   "metadata": {
    "scrolled": true
   },
   "outputs": [],
   "source": [
    "def data_loader():\n",
    "    data = get_processed_data()\n",
    "    seq_info = get_seq_info()\n",
    "    for idx in range(seq_info.shape[0]):\n",
    "        start_idx = seq_info.iloc[idx,0]\n",
    "        end_idx = seq_info.iloc[idx,1]\n",
    "        seq_data = data.iloc[start_idx:end_idx, :]\n",
    "\n",
    "        dataset = Dataset_normalized_data(data=seq_data, src_len=SRC_LEN, label_len=LABEL_LEN)\n",
    "        data_loader = DataLoader(dataset=dataset, batch_size=BATCH_SIZE, shuffle=False)\n",
    "\n",
    "        for src_x, src_y, src_key_padding_mask, tgt_x, tgt_y, tgt_key_padding_mask, y_true in data_loader:\n",
    "            yield src_x.transpose(0, 1), src_y.transpose(0, 1), src_key_padding_mask, tgt_x.transpose(0, 1), tgt_y.transpose(0, 1), tgt_key_padding_mask, y_true.transpose(0, 1)\n",
    "\n",
    "def train_data_loader():\n",
    "    for data in islice(data_loader, 0, int(1430*.8)):\n",
    "        yield data\n",
    "        \n",
    "def eval_data_loader():\n",
    "    for data in islice(data_loader, int(1430*.8), 1430):\n",
    "        yield data\n",
    "\n",
    "data_loader = data_loader()\n",
    "# data_loader_len = sum(1 for _ in data_loader)\n",
    "# data_loader = data_loader()\n",
    "\n",
    "train_data_loader = train_data_loader()\n",
    "eval_data_loader = eval_data_loader()"
   ]
  },
  {
   "cell_type": "markdown",
   "metadata": {},
   "source": [
    "# 位置编码\n",
    "\n",
    "位置编码前要做归一化，否则捕获不到位置信息"
   ]
  },
  {
   "cell_type": "markdown",
   "metadata": {},
   "source": [
    "## 位置编码"
   ]
  },
  {
   "cell_type": "code",
   "execution_count": 15,
   "metadata": {},
   "outputs": [],
   "source": [
    "class PositionalEmbedding(nn.Module):\n",
    "    def __init__(self, d_model, max_len=5000):\n",
    "        super(PositionalEmbedding, self).__init__()\n",
    "        # Compute the positional encodings once in log space.\n",
    "        pe = torch.zeros(max_len, d_model).float()\n",
    "        pe.require_grad = False\n",
    "\n",
    "        position = torch.arange(0, max_len).float().unsqueeze(1)\n",
    "        div_term = (torch.arange(0, d_model, 2).float() * -(math.log(10000.0) / d_model)).exp()\n",
    "\n",
    "        pe[:, 0::2] = torch.sin(position * div_term)\n",
    "        pe[:, 1::2] = torch.cos(position * div_term)\n",
    "\n",
    "        pe = pe.unsqueeze(0).transpose(0, 1)\n",
    "        self.register_buffer('pe', pe)\n",
    "\n",
    "    def forward(self, x):\n",
    "        return self.pe[:x.size(0), :]  # (seq_len, batch_size, d_model)\n",
    "                                        # 这里的batch_size=1，后面做加法时可以广播"
   ]
  },
  {
   "cell_type": "markdown",
   "metadata": {},
   "source": [
    "## 事件属性编码\n",
    "\n",
    "这是我自己想的，不严谨  \n",
    "后续还得看二维序列特征编码Intra and Inter-Case Features in Predictive Process Monitoring: A Tale of Two Dimensions\n",
    "\n",
    "顺便也看看：Complex Symbolic Sequence Encodings for Predictive Monitoring of Business Processes\n",
    "\n",
    "\n",
    "若是想学informer那样加一个全局事件编码，还得再写一个类"
   ]
  },
  {
   "cell_type": "code",
   "execution_count": 16,
   "metadata": {},
   "outputs": [],
   "source": [
    "class FeatureEmbedding(nn.Module):\n",
    "    def __init__(self, x_dim, d_model):\n",
    "        super(FeatureEmbedding, self).__init__()\n",
    "        \n",
    "        self.Embed = nn.Linear(x_dim, d_model)\n",
    "    \n",
    "    def forward(self, x):\n",
    "        \n",
    "        x = self.Embed(x)\n",
    "        return x  # (seq_len, batch_size, d_model)"
   ]
  },
  {
   "cell_type": "markdown",
   "metadata": {},
   "source": [
    "## 总的数据编码"
   ]
  },
  {
   "cell_type": "code",
   "execution_count": 12,
   "metadata": {},
   "outputs": [],
   "source": [
    "class DataEmbedding(nn.Module):\n",
    "    def __init__(self, x_dim, d_model, dropout=0.1):\n",
    "        super(DataEmbedding, self).__init__()\n",
    "        \n",
    "        self.position_embedding = PositionalEmbedding(d_model=d_model)\n",
    "        self.feature_embedding = FeatureEmbedding(x_dim, d_model=d_model)\n",
    "\n",
    "        self.dropout = nn.Dropout(p=dropout)\n",
    "\n",
    "    def forward(self, x, y):\n",
    "        res = self.position_embedding(x) + self.feature_embedding(x) + y\n",
    "        return self.dropout(res)  # (seq_len， batch_size, d_model)"
   ]
  },
  {
   "cell_type": "markdown",
   "metadata": {},
   "source": [
    "# 模型"
   ]
  },
  {
   "cell_type": "markdown",
   "metadata": {},
   "source": [
    "# 自己造数据"
   ]
  },
  {
   "cell_type": "code",
   "execution_count": 8,
   "metadata": {},
   "outputs": [
    {
     "name": "stdout",
     "output_type": "stream",
     "text": [
      "torch.Size([8, 16, 1])\n",
      "torch.Size([16, 8])\n",
      "torch.Size([4, 16, 1])\n",
      "torch.Size([16, 4])\n",
      "torch.Size([4, 16, 1])\n"
     ]
    }
   ],
   "source": [
    "src_y=np.random.randn(128)\n",
    "src_y=torch.tensor(src_y.reshape([8,16, 1])).to(device)\n",
    "print(src_y.shape)\n",
    "\n",
    "src_key_padding_mask=np.random.randn(128)\n",
    "src_key_padding_mask=torch.tensor(src_key_padding_mask.reshape([16,8])).to(device)\n",
    "print(src_key_padding_mask.shape)\n",
    "\n",
    "\n",
    "\n",
    "\n",
    "tgt_y=np.random.randn(64)\n",
    "tgt_y=torch.tensor(tgt_y.reshape([4,16, 1])).to(device)\n",
    "print(tgt_y.shape)\n",
    "\n",
    "\n",
    "tgt_key_padding_mask=np.random.randn(64)\n",
    "tgt_key_padding_mask=torch.tensor(tgt_key_padding_mask.reshape([16,4])).to(device)\n",
    "print(tgt_key_padding_mask.shape)\n",
    "\n",
    "y_true=np.random.randn(64)\n",
    "y_true=torch.tensor(y_true.reshape([4,16, 1])).to(device)\n",
    "print(y_true.shape)"
   ]
  },
  {
   "attachments": {
    "9fa58059-f09a-4eef-b825-cc97681bb412.png": {
     "image/png": "[encoded data removed]"
    }
   },
   "cell_type": "markdown",
   "metadata": {},
   "source": [
    "![image.png](attachment:9fa58059-f09a-4eef-b825-cc97681bb412.png)"
   ]
  },
  {
   "cell_type": "markdown",
   "metadata": {},
   "source": [
    "研究一下人家代码里的不认识的操作，比如：  \n",
    "self.model_type = 'Transformer'  \n",
    "def init_weights\n",
    "\n",
    "再搜一个全面的案例看看"
   ]
  },
  {
   "cell_type": "markdown",
   "metadata": {},
   "source": [
    "## v1模型（解码器是attention结构）"
   ]
  },
  {
   "cell_type": "code",
   "execution_count": 9,
   "metadata": {},
   "outputs": [],
   "source": [
    "class ClassicTransformerModel_v1(nn.Module):\n",
    "    def __init__(self, d_model=512):\n",
    "        super(ClassicTransformerModel_v1, self).__init__()\n",
    "        self.model_type = 'Transformer'  # 没搞明白baseline写这个有啥用\n",
    "        self.src_mask = None\n",
    "        # embedding\n",
    "        self.enc_embedding = DataEmbedding(x_dim=50, d_model=d_model, dropout=0.1)\n",
    "        self.dec_embedding = DataEmbedding(x_dim=50, d_model=d_model, dropout=0.1)\n",
    "        \n",
    "        # transformer\n",
    "        self.transformer = torch.nn.Transformer(\n",
    "            d_model=d_model, \n",
    "            nhead=8, \n",
    "            num_encoder_layers=1,\n",
    "            num_decoder_layers=1, \n",
    "            dim_feedforward=2048,  # 前馈网络模型的尺寸（默认值= 2048）。\n",
    "            dropout=0.1, \n",
    "            activation='relu',  # relu or gelu (default=relu).\n",
    "            custom_encoder=None,  # 定制编码器\n",
    "            custom_decoder=None\n",
    "        )\n",
    "        \n",
    "        # output linear\n",
    "        self.outputLinear = nn.Linear(d_model, 1)\n",
    "\n",
    "    def forward(self, src_x, src_y, src_key_padding_mask, tgt_x, tgt_y, tgt_key_padding_mask):\n",
    "        src_key_padding_mask = src_key_padding_mask.bool()\n",
    "        tgt_key_padding_mask = tgt_key_padding_mask.bool()\n",
    "\n",
    "        src = self.enc_embedding(src_x, src_y)  # 位置编码\n",
    "        tgt = self.dec_embedding(tgt_x, tgt_y)  # 位置编码\n",
    "        output = self.transformer(src, tgt, src_key_padding_mask=None , tgt_key_padding_mask=None)\n",
    "        output = self.outputLinear(output)\n",
    "        return output   # (seq_len， batch_size, 1)"
   ]
  },
  {
   "cell_type": "markdown",
   "metadata": {},
   "source": [
    "## v2模型（解码器为单层感知机）"
   ]
  },
  {
   "cell_type": "code",
   "execution_count": 13,
   "metadata": {},
   "outputs": [],
   "source": [
    "class ClassicTransformerModel_v2(nn.Module):\n",
    "    def __init__(self, d_model=512):\n",
    "        super(ClassicTransformerModel_v2, self).__init__()\n",
    "        self.model_type = 'Transformer'  # 没搞明白baseline写这个有啥用\n",
    "        self.src_mask = None\n",
    "        \n",
    "        # embedding\n",
    "        self.data_embedding = DataEmbedding(x_dim=50, d_model=d_model, dropout=0.1)\n",
    "        \n",
    "        # transformer_encoder\n",
    "        self.encoder_layer = nn.TransformerEncoderLayer(d_model=d_model, nhead=8, dropout=0.1)\n",
    "        self.transformer_encoder = nn.TransformerEncoder(self.encoder_layer, num_layers=1)\n",
    "        \n",
    "        # linear_decoder\n",
    "        self.decoder = nn.Linear(d_model, 1)\n",
    "        self.init_weights()\n",
    "        self.src_key_padding_mask = None\n",
    "\n",
    "    def init_weights(self):\n",
    "        initrange = 0.1\n",
    "        self.decoder.bias.data.zero_()\n",
    "        self.decoder.weight.data.uniform_(-initrange, initrange)\n",
    "\n",
    "    def forward(self, src_x, src_y, src_key_padding_mask):\n",
    "        src = self.data_embedding(src_x, src_y)  # 位置编码\n",
    "        src_key_padding_mask = src_key_padding_mask.bool()\n",
    "        output = self.transformer_encoder(src, self.src_mask, src_key_padding_mask)\n",
    "        output = self.decoder(output)\n",
    "        return output"
   ]
  },
  {
   "cell_type": "code",
   "execution_count": 17,
   "metadata": {},
   "outputs": [],
   "source": [
    "model = ClassicTransformerModel_v1().to(device)"
   ]
  },
  {
   "cell_type": "markdown",
   "metadata": {},
   "source": [
    "# 优化器&损失函数"
   ]
  },
  {
   "cell_type": "code",
   "execution_count": 18,
   "metadata": {},
   "outputs": [],
   "source": [
    "lr = 0.0001\n",
    "optimizer = torch.optim.AdamW(model.parameters(), lr=lr)\n",
    "criterion = nn.MSELoss().to(device)"
   ]
  },
  {
   "cell_type": "markdown",
   "metadata": {},
   "source": [
    "# 封装函数\n",
    "\n",
    "梯度剪裁参考：https://www.cnblogs.com/lindaxin/p/7998196.html"
   ]
  },
  {
   "cell_type": "code",
   "execution_count": 36,
   "metadata": {},
   "outputs": [],
   "source": [
    "def train():\n",
    "    calculate_loss_over_all_values = False # 超参数\n",
    "    \n",
    "    model.train()  # Turn on the train mode\n",
    "    total_loss = []\n",
    "\n",
    "#     for train_data in tqdm(train_data_loader):\n",
    "    optimizer.zero_grad()\n",
    "    src_x, src_y, src_key_padding_mask, tgt_x, tgt_y, tgt_key_padding_mask, y_true = \\\n",
    "    [d.to(device) for d in train_data]\n",
    "    targets = y_true\n",
    "    output = model(src_x, src_y, src_key_padding_mask, tgt_x, tgt_y, tgt_key_padding_mask)\n",
    "\n",
    "    if calculate_loss_over_all_values:\n",
    "        loss = criterion(output, targets)\n",
    "    else:\n",
    "        loss = criterion(output[-PRED_LEN:], targets[-PRED_LEN:])\n",
    "\n",
    "    loss.backward()\n",
    "    torch.nn.utils.clip_grad_norm_(model.parameters(), 0.5)   # 梯度裁剪\n",
    "    optimizer.step()\n",
    "\n",
    "    total_loss.append(loss.cpu().item())\n",
    "    return np.average(total_loss)"
   ]
  },
  {
   "cell_type": "code",
   "execution_count": 37,
   "metadata": {},
   "outputs": [],
   "source": [
    "def evaluate():\n",
    "    model.eval()\n",
    "    total_loss = []\n",
    "    with torch.no_grad():\n",
    "#         for eval_data in tqdm(eval_data_loader):\n",
    "        src_x, src_y, src_key_padding_mask, tgt_x, tgt_y, tgt_key_padding_mask, y_true = \\\n",
    "        [d.to(device) for d in eval_data]\n",
    "        targets = y_true\n",
    "        output = model(src_x, src_y, src_key_padding_mask, tgt_x, tgt_y, tgt_key_padding_mask)\n",
    "        if calculate_loss_over_all_values:\n",
    "            loss = criterion(output, targets)\n",
    "        else:\n",
    "            loss = criterion(output[-PRED_LEN:], targets[-PRED_LEN:])\n",
    "        total_loss.append(loss.cpu().item())\n",
    "    return np.average(total_loss)"
   ]
  },
  {
   "cell_type": "code",
   "execution_count": 40,
   "metadata": {},
   "outputs": [],
   "source": [
    "def Trainer(epochs):\n",
    "    train_loss_logs = []\n",
    "    eval_loss_logs = []\n",
    "    for epoch in range(1, epochs + 1):\n",
    "        print(f'开始进行第{epoch}轮训练')\n",
    "        train_loss = train()\n",
    "        train_loss_logs.append(train_loss)\n",
    "        print(f'train loss为{train_loss}\\n')\n",
    "        print(f'开始进行第{epoch}轮验证')\n",
    "        eval_loss = evaluate(eval_data_loader)\n",
    "        eval_loss_logs.append(eval_loss)\n",
    "        print(f'eval loss为{eval_loss}')\n",
    "        break\n",
    "    return train_loss_logs, eval_loss_logs"
   ]
  },
  {
   "cell_type": "markdown",
   "metadata": {},
   "source": [
    "# 训练"
   ]
  },
  {
   "cell_type": "code",
   "execution_count": 41,
   "metadata": {},
   "outputs": [
    {
     "name": "stdout",
     "output_type": "stream",
     "text": [
      "开始进行第1轮训练\n"
     ]
    },
    {
     "ename": "NameError",
     "evalue": "name 'train_data' is not defined",
     "output_type": "error",
     "traceback": [
      "\u001b[1;31m---------------------------------------------------------------------------\u001b[0m",
      "\u001b[1;31mNameError\u001b[0m                                 Traceback (most recent call last)",
      "\u001b[1;32m<ipython-input-41-38ee7ea41ff7>\u001b[0m in \u001b[0;36m<module>\u001b[1;34m\u001b[0m\n\u001b[1;32m----> 1\u001b[1;33m \u001b[0mtrain_loss_logs\u001b[0m\u001b[1;33m,\u001b[0m \u001b[0meval_loss_logs\u001b[0m \u001b[1;33m=\u001b[0m \u001b[0mTrainer\u001b[0m\u001b[1;33m(\u001b[0m\u001b[1;36m10\u001b[0m\u001b[1;33m)\u001b[0m\u001b[1;33m\u001b[0m\u001b[0m\n\u001b[0m",
      "\u001b[1;32m<ipython-input-40-17ade257621d>\u001b[0m in \u001b[0;36mTrainer\u001b[1;34m(epochs)\u001b[0m\n\u001b[0;32m      4\u001b[0m     \u001b[1;32mfor\u001b[0m \u001b[0mepoch\u001b[0m \u001b[1;32min\u001b[0m \u001b[0mrange\u001b[0m\u001b[1;33m(\u001b[0m\u001b[1;36m1\u001b[0m\u001b[1;33m,\u001b[0m \u001b[0mepochs\u001b[0m \u001b[1;33m+\u001b[0m \u001b[1;36m1\u001b[0m\u001b[1;33m)\u001b[0m\u001b[1;33m:\u001b[0m\u001b[1;33m\u001b[0m\u001b[0m\n\u001b[0;32m      5\u001b[0m         \u001b[0mprint\u001b[0m\u001b[1;33m(\u001b[0m\u001b[1;34mf'开始进行第{epoch}轮训练'\u001b[0m\u001b[1;33m)\u001b[0m\u001b[1;33m\u001b[0m\u001b[0m\n\u001b[1;32m----> 6\u001b[1;33m         \u001b[0mtrain_loss\u001b[0m \u001b[1;33m=\u001b[0m \u001b[0mtrain\u001b[0m\u001b[1;33m(\u001b[0m\u001b[1;33m)\u001b[0m\u001b[1;33m\u001b[0m\u001b[0m\n\u001b[0m\u001b[0;32m      7\u001b[0m         \u001b[0mtrain_loss_logs\u001b[0m\u001b[1;33m.\u001b[0m\u001b[0mappend\u001b[0m\u001b[1;33m(\u001b[0m\u001b[0mtrain_loss\u001b[0m\u001b[1;33m)\u001b[0m\u001b[1;33m\u001b[0m\u001b[0m\n\u001b[0;32m      8\u001b[0m         \u001b[0mprint\u001b[0m\u001b[1;33m(\u001b[0m\u001b[1;34mf'train loss为{train_loss}\\n'\u001b[0m\u001b[1;33m)\u001b[0m\u001b[1;33m\u001b[0m\u001b[0m\n",
      "\u001b[1;32m<ipython-input-36-e46fa119f813>\u001b[0m in \u001b[0;36mtrain\u001b[1;34m()\u001b[0m\n\u001b[0;32m      8\u001b[0m     \u001b[0moptimizer\u001b[0m\u001b[1;33m.\u001b[0m\u001b[0mzero_grad\u001b[0m\u001b[1;33m(\u001b[0m\u001b[1;33m)\u001b[0m\u001b[1;33m\u001b[0m\u001b[0m\n\u001b[0;32m      9\u001b[0m     \u001b[0msrc_x\u001b[0m\u001b[1;33m,\u001b[0m \u001b[0msrc_y\u001b[0m\u001b[1;33m,\u001b[0m \u001b[0msrc_key_padding_mask\u001b[0m\u001b[1;33m,\u001b[0m \u001b[0mtgt_x\u001b[0m\u001b[1;33m,\u001b[0m \u001b[0mtgt_y\u001b[0m\u001b[1;33m,\u001b[0m \u001b[0mtgt_key_padding_mask\u001b[0m\u001b[1;33m,\u001b[0m \u001b[0my_true\u001b[0m \u001b[1;33m=\u001b[0m\u001b[0;31m \u001b[0m\u001b[0;31m\\\u001b[0m\u001b[1;33m\u001b[0m\u001b[0m\n\u001b[1;32m---> 10\u001b[1;33m     \u001b[1;33m[\u001b[0m\u001b[0md\u001b[0m\u001b[1;33m.\u001b[0m\u001b[0mto\u001b[0m\u001b[1;33m(\u001b[0m\u001b[0mdevice\u001b[0m\u001b[1;33m)\u001b[0m \u001b[1;32mfor\u001b[0m \u001b[0md\u001b[0m \u001b[1;32min\u001b[0m \u001b[0mtrain_data\u001b[0m\u001b[1;33m]\u001b[0m\u001b[1;33m\u001b[0m\u001b[0m\n\u001b[0m\u001b[0;32m     11\u001b[0m     \u001b[0mtargets\u001b[0m \u001b[1;33m=\u001b[0m \u001b[0my_true\u001b[0m\u001b[1;33m\u001b[0m\u001b[0m\n\u001b[0;32m     12\u001b[0m     \u001b[0moutput\u001b[0m \u001b[1;33m=\u001b[0m \u001b[0mmodel\u001b[0m\u001b[1;33m(\u001b[0m\u001b[0msrc_x\u001b[0m\u001b[1;33m,\u001b[0m \u001b[0msrc_y\u001b[0m\u001b[1;33m,\u001b[0m \u001b[0msrc_key_padding_mask\u001b[0m\u001b[1;33m,\u001b[0m \u001b[0mtgt_x\u001b[0m\u001b[1;33m,\u001b[0m \u001b[0mtgt_y\u001b[0m\u001b[1;33m,\u001b[0m \u001b[0mtgt_key_padding_mask\u001b[0m\u001b[1;33m)\u001b[0m\u001b[1;33m\u001b[0m\u001b[0m\n",
      "\u001b[1;31mNameError\u001b[0m: name 'train_data' is not defined"
     ]
    }
   ],
   "source": [
    "train_loss_logs, eval_loss_logs = Trainer(10)"
   ]
  },
  {
   "cell_type": "code",
   "execution_count": 20,
   "metadata": {},
   "outputs": [
    {
     "data": {
      "text/plain": [
       "[0.5857355349246979]"
      ]
     },
     "execution_count": 20,
     "metadata": {},
     "output_type": "execute_result"
    }
   ],
   "source": [
    "train_loss_logs"
   ]
  }
 ],
 "metadata": {
  "kernelspec": {
   "display_name": "Python 3",
   "language": "python",
   "name": "python3"
  },
  "language_info": {
   "codemirror_mode": {
    "name": "ipython",
    "version": 3
   },
   "file_extension": ".py",
   "mimetype": "text/x-python",
   "name": "python",
   "nbconvert_exporter": "python",
   "pygments_lexer": "ipython3",
   "version": "3.7.0"
  },
  "toc": {
   "base_numbering": 1,
   "nav_menu": {},
   "number_sections": true,
   "sideBar": true,
   "skip_h1_title": false,
   "title_cell": "Table of Contents",
   "title_sidebar": "Contents",
   "toc_cell": false,
   "toc_position": {
    "height": "calc(100% - 180px)",
    "left": "10px",
    "top": "150px",
    "width": "304.446px"
   },
   "toc_section_display": true,
   "toc_window_display": true
  }
 },
 "nbformat": 4,
 "nbformat_minor": 4
}
