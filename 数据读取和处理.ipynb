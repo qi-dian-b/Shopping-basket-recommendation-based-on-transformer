{
 "cells": [
  {
   "cell_type": "code",
   "execution_count": 1,
   "metadata": {},
   "outputs": [],
   "source": [
    "import json\n",
    "import numpy as np\n",
    "import re"
   ]
  },
  {
   "cell_type": "markdown",
   "metadata": {},
   "source": [
    "# Instacart.json 统计每个用户购物篮的平均数量"
   ]
  },
  {
   "cell_type": "code",
   "execution_count": 2,
   "metadata": {},
   "outputs": [
    {
     "name": "stdout",
     "output_type": "stream",
     "text": [
      "6\n"
     ]
    }
   ],
   "source": [
    "def readInChunks(fileObj, chunkSize=81920000):\n",
    "    \"\"\"\n",
    "    Lazy function to read a file piece by piece.\n",
    "    Default chunk size: 4kB.\n",
    "    \"\"\"\n",
    "    while 1:\n",
    "        \n",
    "        data = fileObj.read(chunkSize)\n",
    "        if not data:\n",
    "            break\n",
    "        yield data\n",
    "\n",
    "instlist=[]\n",
    "f = open('Instacart.json')\n",
    "for chuck in readInChunks(f):\n",
    "          instlist.append(chuck)\n",
    "print(len(instlist))\n",
    "a=''\n",
    "for i in instlist: # 让所有的字符形成一个长的字符串 \n",
    "    a=a+str(i)\n",
    "b=re.findall(r'\"baskets_item\":(.*?)baskets_attr1',a)# 把 这两个之间的是购物篮序列拿出来  是一个str的形式 "
   ]
  },
  {
   "cell_type": "code",
   "execution_count": 15,
   "metadata": {},
   "outputs": [],
   "source": [
    "c=re.findall(\"\\[(.*?)\\]\",b[0][2:-3])"
   ]
  },
  {
   "cell_type": "code",
   "execution_count": 27,
   "metadata": {},
   "outputs": [
    {
     "name": "stdout",
     "output_type": "stream",
     "text": [
      "[13170, 196, 41769, 17115, 10321, 10253, 25125, 12421\n",
      "196, 30437, 10253, 25125, 12421\n",
      "196, 13026, 10253, 25125, 12421\n",
      "196, 10253, 25125, 12421, 26396\n",
      "49210, 196, 10253, 25125, 46127, 12421\n",
      "13170, 196, 13026, 26079, 10253, 12421\n",
      "196, 14078, 26079, 12421, 26396\n",
      "196, 35936, 38910, 13026, 10253, 25125, 46127, 12421, 39639\n",
      "49210, 196, 10253, 25125, 46127, 12421\n",
      "196, 10253, 25125, 12421\n",
      "[47186, 24844, 37629, 36718, 45592, 34674, 32126, 21142, 22821, 32779, 9676, 33263, 49426\n",
      "47186, 24844, 5209, 22955, 2002, 34674, 46863, 48086, 32039, 23, 40180, 20076, 17750, 32779, 28906, 14300\n",
      "33741, 47186, 24844, 22817, 39910, 18515, 7776, 1559, 21701, 7958, 19148, 24760, 27403, 20777, 16582, 2573\n",
      "33741, 27955, 47186, 24844, 45045, 27334, 17864, 18515, 24946, 36718, 41769, 4954, 46653, 32126, 40553, 32039, 19043, 32779, 9676, 33263, 11994\n",
      "33741, 47186, 18515, 22116, 2002, 22466, 1559, 21219, 19148, 32126, 19043, 32779, 16582, 4069, 8291\n",
      "47186, 24844, 17864, 18515, 2002, 1559, 19148, 2573, 11994\n",
      "8474, 47742, 16790, 19043, 8133, 47503\n",
      "47742, 22116, 47121, 1559, 17217, 38638, 19148, 21368, 48186, 47530, 14547, 5319, 5904\n",
      "33741, 24844, 17864, 18515, 22116, 49248, 2002, 22466, 7776, 45592, 5447, 1559, 9119, 19148, 21368, 47768, 27726, 22551, 48075, 33944, 32779, 13345, 11994, 15835, 13736, 18953\n",
      "47742, 20566, 7776, 32779, 28862\n",
      "13170, 27955, 47742, 45045, 27334, 20566, 30476, 22466, 48086, 32779, 16582, 11994, 35902\n",
      "33741, 47186, 22955, 18515, 22116, 36718, 19232, 1559, 21701, 19148, 10300, 42336, 12252, 36271, 3151, 32779, 13345, 16582, 24982\n",
      "47186, 24844, 45045, 41769, 34674, 46863, 32126, 32039, 19043, 40180, 17750, 32779, 16582, 11994\n",
      "19049, 44282, 16514, 42322, 45927, 39859, 79, 30895, 5866\n",
      "[21895, 17660, 21129, 8016, 40586, 248, 32389, 38578, 23642\n",
      "21895, 17660, 47742, 43940, 39172\n",
      "17660, 47742, 39172, 32389, 18591, 1005\n",
      "21895, 17660, 47742, 16790, 9382, 39172, 39904, 32389, 24802, 15137\n",
      "21895, 47742, 39172, 24802, 18591, 23642\n",
      "1819, 21895, 14986, 16790, 9382, 43940, 24002, 39172, 18591\n"
     ]
    }
   ],
   "source": [
    "for i in c[0:30]:\n",
    "    print(i) # 这个就是 一行是一个 用户购物篮的信息 数字是商品 \n",
    "    #  [13170, 196, 41769, 17115, 10321, 10253, 25125, 12421 带有[的就是一个用户的分割线 "
   ]
  },
  {
   "cell_type": "markdown",
   "metadata": {},
   "source": [
    "#### 一个用户的购物篮 序列分组"
   ]
  },
  {
   "cell_type": "code",
   "execution_count": 22,
   "metadata": {},
   "outputs": [
    {
     "name": "stdout",
     "output_type": "stream",
     "text": [
      "176203\n",
      "[0, 10, 24, 36, 41, 45, 65, 70, 77, 82]\n"
     ]
    }
   ],
   "source": [
    "fenzu_list=[]\n",
    "for idx,i in enumerate(c):\n",
    "    if i[0]=='[':\n",
    "        fenzu_list.append(idx)\n",
    "print(len(fenzu_list))\n",
    "print(fenzu_list[0:10])"
   ]
  },
  {
   "cell_type": "markdown",
   "metadata": {},
   "source": [
    "#### 每个购物篮序列 是用 [] 分割的 "
   ]
  },
  {
   "cell_type": "markdown",
   "metadata": {},
   "source": [
    "###  统计每个用户的购物篮的平均数量 数量"
   ]
  },
  {
   "cell_type": "code",
   "execution_count": 2,
   "metadata": {},
   "outputs": [],
   "source": [
    "# c=re.findall(\"\\[(.*?)\\]\",b[0][3:-5])\n",
    "# print(len(c)) # 一共有3039141 个购物篮序列 \n",
    "# print(c[0]) # 这里全是字符串  并不是列表 "
   ]
  },
  {
   "cell_type": "code",
   "execution_count": 31,
   "metadata": {},
   "outputs": [
    {
     "name": "stdout",
     "output_type": "stream",
     "text": [
      "每个用户平均 购物篮数量： 17.247976753952848\n",
      "用户购物篮数量中位数： 11.0\n"
     ]
    }
   ],
   "source": [
    "count_Instacart=[]\n",
    "linshi=[]\n",
    "for i in range(176202): \n",
    "        count_Instacart.append(fenzu_list[i+1]-fenzu_list[i])# 计算用户购物篮的个数   例如 10-0 第一个用户购物篮数量是 10 个 \n",
    "print(\"每个用户平均 购物篮数量：\",np.mean(count_Instacart))\n",
    "print(\"用户购物篮数量中位数：\",np.median(count_Instacart))"
   ]
  },
  {
   "cell_type": "markdown",
   "metadata": {},
   "source": [
    "# Ta-feng.json 统计每个用户购物篮的平均数量"
   ]
  },
  {
   "cell_type": "code",
   "execution_count": 32,
   "metadata": {},
   "outputs": [
    {
     "name": "stdout",
     "output_type": "stream",
     "text": [
      "每个用户平均 购物篮数量： 8.169209702660407\n",
      "用户购物篮数量中位数： 6.0\n"
     ]
    }
   ],
   "source": [
    "f = open('Ta-feng.json')\n",
    "feng = json.load(f)\n",
    "cuont_tafeng=[]\n",
    "for i in feng[\"baskets_item\"]:\n",
    "    cuont_tafeng.append(len(i))\n",
    "print(\"每个用户平均 购物篮数量：\",np.mean(cuont_tafeng))\n",
    "print(\"用户购物篮数量中位数：\",np.median(cuont_tafeng))"
   ]
  },
  {
   "cell_type": "markdown",
   "metadata": {},
   "source": [
    "# ValuedShopper1.json 统计每个用户购物篮的平均数量"
   ]
  },
  {
   "cell_type": "code",
   "execution_count": 11,
   "metadata": {},
   "outputs": [
    {
     "name": "stdout",
     "output_type": "stream",
     "text": [
      "[3, 45, 1, 3]\n"
     ]
    }
   ],
   "source": [
    "a = [2,3,45,1,3]\n",
    "a.remove(a[0])\n",
    "print(a)"
   ]
  },
  {
   "cell_type": "code",
   "execution_count": null,
   "metadata": {},
   "outputs": [
    {
     "name": "stdout",
     "output_type": "stream",
     "text": [
      "228\n"
     ]
    }
   ],
   "source": [
    "def readInChunks(fileObj, chunkSize=40960000):\n",
    "    \"\"\"\n",
    "    Lazy function to read a file piece by piece.\n",
    "    Default chunk size: 4kB.\n",
    "    \"\"\"\n",
    "    while 1:\n",
    "        data = fileObj.read(chunkSize)\n",
    "        if not data:\n",
    "            break\n",
    "        yield data\n",
    "\n",
    "instlist=[]\n",
    "f = open('ValuedShopper1.json')\n",
    "for chuck in readInChunks(f):\n",
    "          instlist.append(chuck)\n",
    "print(len(instlist))\n",
    "a=''\n",
    "for i in instlist: # 让所有的字符形成一个长的字符串 \n",
    "    a=a+str(i)\n",
    "    \n",
    "b=re.findall(r'\"baskets_item\":(.*?)baskets_attr1',a)# 把 这两个之间的是购物篮序列拿出来  是一个str的形式 \n",
    "print(\"11\")"
   ]
  },
  {
   "cell_type": "code",
   "execution_count": null,
   "metadata": {},
   "outputs": [],
   "source": [
    "c=re.findall(\"\\[(.*?)\\]\",b[0][2:-3])\n",
    "print(len(c)) # 一共有3039141 个购物篮序列 \n",
    "print(c[0]) # 这里全是字符串  并不是列表 \n",
    "del b"
   ]
  },
  {
   "cell_type": "code",
   "execution_count": null,
   "metadata": {},
   "outputs": [],
   "source": [
    "for i in c[0:30]:\n",
    "    print(i) # 这个就是 一行是一个 用户购物篮的信息 数字是商品 \n",
    "    #  [13170, 196, 41769, 17115, 10321, 10253, 25125, 12421 带有[的就是一个用户的分割线 "
   ]
  },
  {
   "cell_type": "code",
   "execution_count": 65,
   "metadata": {},
   "outputs": [
    {
     "name": "stdout",
     "output_type": "stream",
     "text": [
      "Expecting ',' delimiter: line 1 column 27787265 (char 27787264)\n"
     ]
    }
   ],
   "source": [
    "\n",
    "a=[]\n",
    "with open('Ta-feng.json', 'r', encoding='utf-8') as f:\n",
    "    try:\n",
    "        while True :\n",
    "            line_data = f.readline()\n",
    "            if line_data:\n",
    "               data= json.loads(line_data)#把读取的一行的json数据加载出来\n",
    "               \n",
    "            else:\n",
    "                break\n",
    "    except Exception as e:\n",
    "        print(e)\n",
    "        f.close()"
   ]
  },
  {
   "cell_type": "code",
   "execution_count": null,
   "metadata": {},
   "outputs": [],
   "source": [
    "def readInChunks(fileObj):\n",
    "    \"\"\"\n",
    "    Lazy function to read a file piece by piece.\n",
    "    Default chunk size: 4kB.\n",
    "    \"\"\"\n",
    "    while 1:\n",
    "        data = fileObj.readline()\n",
    "\n",
    "        if not data:\n",
    "            break\n",
    "        yield data\n",
    "\n",
    "f = open('Ta-feng.json')\n",
    "for chuck in readInChunks(f):\n",
    "    print(chuck[0:20])\n",
    "f.close()"
   ]
  },
  {
   "cell_type": "code",
   "execution_count": 84,
   "metadata": {},
   "outputs": [],
   "source": [
    "def readInChunks(fileObj, chunkSize=4096):\n",
    "    \"\"\"\n",
    "    Lazy function to read a file piece by piece.\n",
    "    Default chunk size: 4kB.\n",
    "    \"\"\"\n",
    "    while 1:\n",
    "        data = fileObj.read(chunkSize)\n",
    "\n",
    "        if not data:\n",
    "            break\n",
    "        yield data\n",
    "\n",
    "f = open('Ta-feng.json')\n",
    "for chuck in readInChunks(f):\n",
    "    print(chuck)\n",
    "f.close()"
   ]
  },
  {
   "cell_type": "code",
   "execution_count": 42,
   "metadata": {},
   "outputs": [
    {
     "ename": "JSONDecodeError",
     "evalue": "Expecting ',' delimiter: line 1 column 27787265 (char 27787264)",
     "output_type": "error",
     "traceback": [
      "\u001b[1;31m---------------------------------------------------------------------------\u001b[0m",
      "\u001b[1;31mJSONDecodeError\u001b[0m                           Traceback (most recent call last)",
      "\u001b[1;32m<ipython-input-42-b6ca4d51ab20>\u001b[0m in \u001b[0;36m<module>\u001b[1;34m\u001b[0m\n\u001b[0;32m      1\u001b[0m \u001b[0mi\u001b[0m \u001b[1;33m=\u001b[0m \u001b[0mopen\u001b[0m\u001b[1;33m(\u001b[0m\u001b[1;34m'Instacart.json'\u001b[0m\u001b[1;33m)\u001b[0m\u001b[1;33m\u001b[0m\u001b[0m\n\u001b[1;32m----> 2\u001b[1;33m \u001b[0minstacart\u001b[0m \u001b[1;33m=\u001b[0m \u001b[0mjson\u001b[0m\u001b[1;33m.\u001b[0m\u001b[0mload\u001b[0m\u001b[1;33m(\u001b[0m\u001b[0mi\u001b[0m\u001b[1;33m)\u001b[0m\u001b[1;33m\u001b[0m\u001b[0m\n\u001b[0m\u001b[0;32m      3\u001b[0m \u001b[0mcuont_instacart\u001b[0m\u001b[1;33m=\u001b[0m\u001b[1;33m[\u001b[0m\u001b[1;33m]\u001b[0m\u001b[1;33m\u001b[0m\u001b[0m\n\u001b[0;32m      4\u001b[0m \u001b[1;32mfor\u001b[0m \u001b[0mi\u001b[0m \u001b[1;32min\u001b[0m \u001b[0minstacart\u001b[0m\u001b[1;33m[\u001b[0m\u001b[1;34m\"baskets_item\"\u001b[0m\u001b[1;33m]\u001b[0m\u001b[1;33m:\u001b[0m\u001b[1;33m\u001b[0m\u001b[0m\n\u001b[0;32m      5\u001b[0m     \u001b[0mcuont_instacart\u001b[0m\u001b[1;33m.\u001b[0m\u001b[0mappend\u001b[0m\u001b[1;33m(\u001b[0m\u001b[0mlen\u001b[0m\u001b[1;33m(\u001b[0m\u001b[0mi\u001b[0m\u001b[1;33m)\u001b[0m\u001b[1;33m)\u001b[0m\u001b[1;33m\u001b[0m\u001b[0m\n",
      "\u001b[1;32mc:\\python37\\lib\\json\\__init__.py\u001b[0m in \u001b[0;36mload\u001b[1;34m(fp, cls, object_hook, parse_float, parse_int, parse_constant, object_pairs_hook, **kw)\u001b[0m\n\u001b[0;32m    294\u001b[0m         \u001b[0mcls\u001b[0m\u001b[1;33m=\u001b[0m\u001b[0mcls\u001b[0m\u001b[1;33m,\u001b[0m \u001b[0mobject_hook\u001b[0m\u001b[1;33m=\u001b[0m\u001b[0mobject_hook\u001b[0m\u001b[1;33m,\u001b[0m\u001b[1;33m\u001b[0m\u001b[0m\n\u001b[0;32m    295\u001b[0m         \u001b[0mparse_float\u001b[0m\u001b[1;33m=\u001b[0m\u001b[0mparse_float\u001b[0m\u001b[1;33m,\u001b[0m \u001b[0mparse_int\u001b[0m\u001b[1;33m=\u001b[0m\u001b[0mparse_int\u001b[0m\u001b[1;33m,\u001b[0m\u001b[1;33m\u001b[0m\u001b[0m\n\u001b[1;32m--> 296\u001b[1;33m         parse_constant=parse_constant, object_pairs_hook=object_pairs_hook, **kw)\n\u001b[0m\u001b[0;32m    297\u001b[0m \u001b[1;33m\u001b[0m\u001b[0m\n\u001b[0;32m    298\u001b[0m \u001b[1;33m\u001b[0m\u001b[0m\n",
      "\u001b[1;32mc:\\python37\\lib\\json\\__init__.py\u001b[0m in \u001b[0;36mloads\u001b[1;34m(s, encoding, cls, object_hook, parse_float, parse_int, parse_constant, object_pairs_hook, **kw)\u001b[0m\n\u001b[0;32m    346\u001b[0m             \u001b[0mparse_int\u001b[0m \u001b[1;32mis\u001b[0m \u001b[1;32mNone\u001b[0m \u001b[1;32mand\u001b[0m \u001b[0mparse_float\u001b[0m \u001b[1;32mis\u001b[0m \u001b[1;32mNone\u001b[0m \u001b[1;32mand\u001b[0m\u001b[1;33m\u001b[0m\u001b[0m\n\u001b[0;32m    347\u001b[0m             parse_constant is None and object_pairs_hook is None and not kw):\n\u001b[1;32m--> 348\u001b[1;33m         \u001b[1;32mreturn\u001b[0m \u001b[0m_default_decoder\u001b[0m\u001b[1;33m.\u001b[0m\u001b[0mdecode\u001b[0m\u001b[1;33m(\u001b[0m\u001b[0ms\u001b[0m\u001b[1;33m)\u001b[0m\u001b[1;33m\u001b[0m\u001b[0m\n\u001b[0m\u001b[0;32m    349\u001b[0m     \u001b[1;32mif\u001b[0m \u001b[0mcls\u001b[0m \u001b[1;32mis\u001b[0m \u001b[1;32mNone\u001b[0m\u001b[1;33m:\u001b[0m\u001b[1;33m\u001b[0m\u001b[0m\n\u001b[0;32m    350\u001b[0m         \u001b[0mcls\u001b[0m \u001b[1;33m=\u001b[0m \u001b[0mJSONDecoder\u001b[0m\u001b[1;33m\u001b[0m\u001b[0m\n",
      "\u001b[1;32mc:\\python37\\lib\\json\\decoder.py\u001b[0m in \u001b[0;36mdecode\u001b[1;34m(self, s, _w)\u001b[0m\n\u001b[0;32m    335\u001b[0m \u001b[1;33m\u001b[0m\u001b[0m\n\u001b[0;32m    336\u001b[0m         \"\"\"\n\u001b[1;32m--> 337\u001b[1;33m         \u001b[0mobj\u001b[0m\u001b[1;33m,\u001b[0m \u001b[0mend\u001b[0m \u001b[1;33m=\u001b[0m \u001b[0mself\u001b[0m\u001b[1;33m.\u001b[0m\u001b[0mraw_decode\u001b[0m\u001b[1;33m(\u001b[0m\u001b[0ms\u001b[0m\u001b[1;33m,\u001b[0m \u001b[0midx\u001b[0m\u001b[1;33m=\u001b[0m\u001b[0m_w\u001b[0m\u001b[1;33m(\u001b[0m\u001b[0ms\u001b[0m\u001b[1;33m,\u001b[0m \u001b[1;36m0\u001b[0m\u001b[1;33m)\u001b[0m\u001b[1;33m.\u001b[0m\u001b[0mend\u001b[0m\u001b[1;33m(\u001b[0m\u001b[1;33m)\u001b[0m\u001b[1;33m)\u001b[0m\u001b[1;33m\u001b[0m\u001b[0m\n\u001b[0m\u001b[0;32m    338\u001b[0m         \u001b[0mend\u001b[0m \u001b[1;33m=\u001b[0m \u001b[0m_w\u001b[0m\u001b[1;33m(\u001b[0m\u001b[0ms\u001b[0m\u001b[1;33m,\u001b[0m \u001b[0mend\u001b[0m\u001b[1;33m)\u001b[0m\u001b[1;33m.\u001b[0m\u001b[0mend\u001b[0m\u001b[1;33m(\u001b[0m\u001b[1;33m)\u001b[0m\u001b[1;33m\u001b[0m\u001b[0m\n\u001b[0;32m    339\u001b[0m         \u001b[1;32mif\u001b[0m \u001b[0mend\u001b[0m \u001b[1;33m!=\u001b[0m \u001b[0mlen\u001b[0m\u001b[1;33m(\u001b[0m\u001b[0ms\u001b[0m\u001b[1;33m)\u001b[0m\u001b[1;33m:\u001b[0m\u001b[1;33m\u001b[0m\u001b[0m\n",
      "\u001b[1;32mc:\\python37\\lib\\json\\decoder.py\u001b[0m in \u001b[0;36mraw_decode\u001b[1;34m(self, s, idx)\u001b[0m\n\u001b[0;32m    351\u001b[0m         \"\"\"\n\u001b[0;32m    352\u001b[0m         \u001b[1;32mtry\u001b[0m\u001b[1;33m:\u001b[0m\u001b[1;33m\u001b[0m\u001b[0m\n\u001b[1;32m--> 353\u001b[1;33m             \u001b[0mobj\u001b[0m\u001b[1;33m,\u001b[0m \u001b[0mend\u001b[0m \u001b[1;33m=\u001b[0m \u001b[0mself\u001b[0m\u001b[1;33m.\u001b[0m\u001b[0mscan_once\u001b[0m\u001b[1;33m(\u001b[0m\u001b[0ms\u001b[0m\u001b[1;33m,\u001b[0m \u001b[0midx\u001b[0m\u001b[1;33m)\u001b[0m\u001b[1;33m\u001b[0m\u001b[0m\n\u001b[0m\u001b[0;32m    354\u001b[0m         \u001b[1;32mexcept\u001b[0m \u001b[0mStopIteration\u001b[0m \u001b[1;32mas\u001b[0m \u001b[0merr\u001b[0m\u001b[1;33m:\u001b[0m\u001b[1;33m\u001b[0m\u001b[0m\n\u001b[0;32m    355\u001b[0m             \u001b[1;32mraise\u001b[0m \u001b[0mJSONDecodeError\u001b[0m\u001b[1;33m(\u001b[0m\u001b[1;34m\"Expecting value\"\u001b[0m\u001b[1;33m,\u001b[0m \u001b[0ms\u001b[0m\u001b[1;33m,\u001b[0m \u001b[0merr\u001b[0m\u001b[1;33m.\u001b[0m\u001b[0mvalue\u001b[0m\u001b[1;33m)\u001b[0m \u001b[1;32mfrom\u001b[0m \u001b[1;32mNone\u001b[0m\u001b[1;33m\u001b[0m\u001b[0m\n",
      "\u001b[1;31mJSONDecodeError\u001b[0m: Expecting ',' delimiter: line 1 column 27787265 (char 27787264)"
     ]
    }
   ],
   "source": [
    "i = open('Ta-feng.json')\n",
    "instacart = json.load(i)\n",
    "cuont_instacart=[]\n",
    "\n",
    "for i in instacart[\"baskets_item\"]:\n",
    "    cuont_instacart.append(len(i))\n",
    "print(\"每个用户平均 购物篮数量：\",np.mean(cuont_instacart))\n",
    "print(\"用户购物篮数量中位数：\",np.median(cuont_instacart))"
   ]
  },
  {
   "cell_type": "code",
   "execution_count": 37,
   "metadata": {},
   "outputs": [
    {
     "name": "stdout",
     "output_type": "stream",
     "text": [
      "[1, 2, 3, 4, 5, 6, 7, 8, 9, 10]\n",
      "10224\n",
      "[[14240, 14497, 14635], [6197, 12784, 9735, 14528, 6944, 10376, 14634, 19392, 17132, 9801, 21642, 16921, 6807, 20838, 14649, 9083, 9754, 3257, 22066, 403], [9664], [21936, 12168, 15694, 1915, 1918], [4112], [8272, 15947, 16782, 14634, 20355, 20053, 973, 6072, 20838, 14456], [8249], [7438, 15947, 8272, 6051], [12281, 8272]]\n",
      "10224\n",
      "[[934, 1324, 1324], [75, 475, 1804, 941, 835, 924, 1324, 328, 436, 1710, 463, 1715, 4, 444, 1324, 435, 1804, 432, 463, 1715], [1766], [554, 937, 943, 1941, 1943], [1370], [1357, 52, 933, 1324, 540, 538, 545, 1358, 444, 924], [712], [538, 52, 1357, 895], [53, 1357]]\n",
      "10224\n",
      "[[29, 68, 86], [110, 40, 37, 139, 109, 48, 86, 938, 158, 68, 35, 17, 86, 113, 441, 73, 38, 37, 35, 17], [23], [419, 31, 73, 1043, 1307], [763], [488, 273, 51, 264, 165, 63, 17, 76, 94, 128], [1356], [277, 251, 107, 162], [95, 195]]\n",
      "10224\n"
     ]
    }
   ],
   "source": [
    "print(t[\"user_id\"][0:10])\n",
    "print(len(t[\"user_id\"]))\n",
    "\n",
    "print(t[\"baskets_item\"][0])\n",
    "print(len(t[\"baskets_item\"]))\n",
    "\n",
    "print(t[\"baskets_attr1\"][0])\n",
    "print(len(t[\"baskets_attr1\"]))\n",
    "\n",
    "print(t[\"baskets_attr2\"][0])\n",
    "print(len(t[\"baskets_attr2\"]))"
   ]
  },
  {
   "cell_type": "code",
   "execution_count": null,
   "metadata": {},
   "outputs": [],
   "source": []
  }
 ],
 "metadata": {
  "kernelspec": {
   "display_name": "Python 3",
   "language": "python",
   "name": "python3"
  },
  "language_info": {
   "codemirror_mode": {
    "name": "ipython",
    "version": 3
   },
   "file_extension": ".py",
   "mimetype": "text/x-python",
   "name": "python",
   "nbconvert_exporter": "python",
   "pygments_lexer": "ipython3",
   "version": "3.7.0"
  }
 },
 "nbformat": 4,
 "nbformat_minor": 4
}
